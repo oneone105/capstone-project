{
 "cells": [
  {
   "cell_type": "code",
   "execution_count": null,
   "metadata": {},
   "outputs": [],
   "source": [
    "import tweepy\n",
    "# import config\n",
    "\n",
    "BEARER_TOKEN = \"AAAAAAAAAAAAAAAAAAAAAHpVkAEAAAAAoz0I1wJvxqkJ7%2FC5Xq%2BwNEjkxL0%3D5sGjIl1aeKe4CpipNCH6E6PjUUPESDHzxPIOQsWntRMq7cZ3pZ\"\n",
    "\n",
    "client = tweepy.Client(BEARER_TOKEN)"
   ]
  },
  {
   "cell_type": "code",
   "execution_count": null,
   "metadata": {},
   "outputs": [],
   "source": [
    "query = '#FifaWorldCup -is:retweet'\n",
    "\n",
    "counts = client.get_recent_tweets_count(query=query, granularity='day')\n",
    "\n",
    "for count in counts.data:\n",
    "    print(count)"
   ]
  }
 ],
 "metadata": {
  "language_info": {
   "name": "python"
  },
  "orig_nbformat": 4
 },
 "nbformat": 4,
 "nbformat_minor": 2
}
