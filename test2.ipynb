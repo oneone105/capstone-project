{
 "cells": [
  {
   "cell_type": "code",
   "execution_count": 2,
   "metadata": {},
   "outputs": [],
   "source": [
    "import tweepy\n",
    "# import config\n",
    "\n",
    "BEARER_TOKEN = \"AAAAAAAAAAAAAAAAAAAAAHpVkAEAAAAAoz0I1wJvxqkJ7%2FC5Xq%2BwNEjkxL0%3D5sGjIl1aeKe4CpipNCH6E6PjUUPESDHzxPIOQsWntRMq7cZ3pZ\"\n",
    "\n",
    "client = tweepy.Client(BEARER_TOKEN)"
   ]
  },
  {
   "cell_type": "code",
   "execution_count": 4,
   "metadata": {},
   "outputs": [
    {
     "name": "stdout",
     "output_type": "stream",
     "text": [
      "<tweepy.client.Client object at 0x7f0291c6c5e0>\n"
     ]
    }
   ],
   "source": [
    "print(client)"
   ]
  },
  {
   "cell_type": "code",
   "execution_count": 3,
   "metadata": {},
   "outputs": [
    {
     "name": "stdout",
     "output_type": "stream",
     "text": [
      "{'end': '2022-12-03T00:00:00.000Z', 'start': '2022-12-02T14:31:32.000Z', 'tweet_count': 115825}\n",
      "{'end': '2022-12-04T00:00:00.000Z', 'start': '2022-12-03T00:00:00.000Z', 'tweet_count': 153232}\n",
      "{'end': '2022-12-05T00:00:00.000Z', 'start': '2022-12-04T00:00:00.000Z', 'tweet_count': 116284}\n",
      "{'end': '2022-12-06T00:00:00.000Z', 'start': '2022-12-05T00:00:00.000Z', 'tweet_count': 248443}\n",
      "{'end': '2022-12-07T00:00:00.000Z', 'start': '2022-12-06T00:00:00.000Z', 'tweet_count': 156594}\n",
      "{'end': '2022-12-08T00:00:00.000Z', 'start': '2022-12-07T00:00:00.000Z', 'tweet_count': 37479}\n",
      "{'end': '2022-12-09T00:00:00.000Z', 'start': '2022-12-08T00:00:00.000Z', 'tweet_count': 33911}\n",
      "{'end': '2022-12-09T14:31:32.000Z', 'start': '2022-12-09T00:00:00.000Z', 'tweet_count': 24141}\n"
     ]
    }
   ],
   "source": [
    "query = '#FifaWorldCup -is:retweet'\n",
    "\n",
    "counts = client.get_recent_tweets_count(query=query, granularity='day')\n",
    "\n",
    "for count in counts.data:\n",
    "    print(count)"
   ]
  }
 ],
 "metadata": {
  "interpreter": {
   "hash": "31f2aee4e71d21fbe5cf8b01ff0e069b9275f58929596ceb00d14d90e3e16cd6"
  },
  "kernelspec": {
   "display_name": "Python 3.10.6 64-bit",
   "language": "python",
   "name": "python3"
  },
  "language_info": {
   "codemirror_mode": {
    "name": "ipython",
    "version": 3
   },
   "file_extension": ".py",
   "mimetype": "text/x-python",
   "name": "python",
   "nbconvert_exporter": "python",
   "pygments_lexer": "ipython3",
   "version": "3.10.6"
  },
  "orig_nbformat": 4
 },
 "nbformat": 4,
 "nbformat_minor": 2
}
