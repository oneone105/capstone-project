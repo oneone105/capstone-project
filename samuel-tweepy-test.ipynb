{
 "cells": [
  {
   "cell_type": "code",
   "execution_count": 2,
   "metadata": {},
   "outputs": [],
   "source": [
    "import tweepy\n",
    "from dotenv import load_dotenv\n",
    "import os\n",
    "import pandas as pd\n",
    "from pymongo import MongoClient\n",
    "from google.cloud import bigquery\n",
    "import json\n",
    "\n",
    "client = MongoClient('localhost', 27017)\n",
    "\n",
    "os.environ[\"GOOGLE_APPLICATION_CREDENTIALS\"]= os.getenv('GOOGLE_APPLICATION_CREDENTIALS')\n",
    "bq_client = bigquery.Client()\n",
    "\n",
    "db = client.worldcup\n",
    "\n",
    "load_dotenv()\n",
    "\n",
    "tweepy_client = tweepy.Client(os.getenv('BEARER_TOKEN'), wait_on_rate_limit=True)"
   ]
  },
  {
   "cell_type": "code",
   "execution_count": 105,
   "metadata": {},
   "outputs": [],
   "source": [
    "query = '#ARG OR #HRV -is:retweet'\n",
    "\n",
    "paginator = tweepy.Paginator(tweepy_client.search_recent_tweets, \n",
    "                        query=query,\n",
    "                        tweet_fields = ['author_id', 'created_at', 'source', 'lang', 'geo', 'public_metrics', 'entities', 'context_annotations', 'attachments'], \n",
    "                        media_fields = ['preview_image_url', 'media_key', 'type', 'url'],\n",
    "                        exclude=['retweets', 'replies'],\n",
    "                        expansions = ['author_id', 'attachments.media_keys'], \n",
    "                        start_time = '2022-12-13T00:00:00.000Z',\n",
    "                        end_time = '2022-12-14T00:00:00.000Z',\n",
    "                        max_results = 100\n",
    "                        )\n",
    "\n",
    "for page in paginator:\n",
    "    \n",
    "    users = {u[\"id\"]: u for u in page.includes['users']}\n",
    "    media = {m[\"media_key\"]: m for m in page.includes['media']}\n",
    "\n",
    "    for tweet in page.data:\n",
    "\n",
    "        if users[tweet.author_id]:\n",
    "            user = users[tweet.author_id]\n",
    "\n",
    "        # if media:\n",
    "        #     attachments = tweet.data['attachments']\n",
    "        #     media_keys = attachments['media_keys']\n",
    "        #     media_info = {\n",
    "        #         \"media_key\": media_keys,\n",
    "        #         \"media_type\": media[media_keys[0]].type,\n",
    "        #         \"preview_image_url\": media[media_keys[0]].preview_image_url\n",
    "        #     }\n",
    "        # else:\n",
    "        #     media_info = \"\"\n",
    "        \n",
    "        tweet_content = {\n",
    "            \"tweet_id\": tweet.id,\n",
    "            \"author\": user,\n",
    "            \"created_at\": tweet.created_at,\n",
    "            \"source\": tweet.source,\n",
    "            \"lang\": tweet.lang,\n",
    "            \"geo\": tweet.geo,\n",
    "            \"public_metrics\": tweet.public_metrics,\n",
    "            \"entites\": tweet.entities,\n",
    "            \"text\": tweet.text,\n",
    "            # \"media\": media_info\n",
    "        }\n",
    "        \n",
    "        db.testarghrv.insert_one(tweet_content)\n",
    "\n",
    "# for tweet in tweets.flatten():\n",
    "#     try:\n",
    "#         print(\"1. \",tweet.data['entities'])\n",
    "#         print(\"2. \",tweet.includes['name'])\n",
    "#         for key, value in tweet.data.items():\n",
    "#             print (key, value)\n",
    "#         # db.a.insert_one(tweet)\n",
    "#         break\n",
    "#     except ValueError as e:\n",
    "#         print(e)"
   ]
  },
  {
   "cell_type": "code",
   "execution_count": 3,
   "metadata": {},
   "outputs": [
    {
     "name": "stdout",
     "output_type": "stream",
     "text": [
      "{'_id': ObjectId('63991486c3841c0557044353'), 'tweet_id': 1602815620353073152, 'author': {'id': 1152570459835252737, 'name': 'Cucciolina9625', 'username': 'Cucciolina96251'}, 'created_at': datetime.datetime(2022, 12, 13, 23, 59, 57), 'source': 'Twitter for Android', 'lang': 'it', 'geo': None, 'retweet': {'retweet_count': 1, 'reply_count': 0, 'like_count': 0, 'quote_count': 0}, 'entites': {'hashtags': [{'start': 17, 'end': 26, 'tag': 'Mondiale'}, {'start': 66, 'end': 70, 'tag': 'ARG'}, {'start': 71, 'end': 75, 'tag': 'HRV'}, {'start': 76, 'end': 86, 'tag': 'Qatar2022'}], 'mentions': [{'start': 3, 'end': 15, 'username': 'corradone91', 'id': '757599085641789440'}]}, 'text': 'RT @corradone91: #Mondiale onnipotente di Leo Messi. STREPITOSO \\n\\n#ARG #HRV #Qatar2022'}\n"
     ]
    }
   ],
   "source": [
    "arghrv = db.testarghrv.find()\n",
    "\n",
    "for ah in arghrv:\n",
    "    print(ah)\n",
    "    hashtags = []\n",
    "    for hashtag in ah.entities.hashtag:\n",
    "        hashtags.append(hashtag.tag)\n",
    "    tweet = {\n",
    "        \"tweet_id\": ah.tweet_id,\n",
    "        \"author_id\": ah.author.id,\n",
    "        \"author_name\": ah.author.name,\n",
    "        \"author_username\": ah.author.username,\n",
    "        \"created_at\": ah.created_at,\n",
    "        \"source\": ah.source,\n",
    "        \"lang\": ah.lang,\n",
    "        \"geo\": ah.geo,\n",
    "        \"retweet\": ah.retweet.retweet_count,\n",
    "        \"reply\": ah.retweet.reply_count,\n",
    "        \"like\": ah.retweet.like_count,\n",
    "        \"quote\": ah.retweet.quote_count,\n",
    "        \"hashtags\": \",\".join(hashtags),\n",
    "        \"mentions\": ah.entities,\n",
    "        \"hashtags\": ah.entities,\n",
    "        \"hashtags\": ah.entities,\n",
    "        \"text\": tweet.text,\n",
    "    }\n",
    "    break"
   ]
  },
  {
   "cell_type": "code",
   "execution_count": null,
   "metadata": {},
   "outputs": [],
   "source": [
    "jpn_vs_hrv = bq_client.get_table('tecky-capstone-project.worldcup.jpn_hrv')\n",
    "\n",
    "x = db.jh.find()\n",
    "for row in x:\n",
    "    row['_id'] = str(row['_id'])\n",
    "    row['Date_Created'] = str(row['Date_Created'])\n",
    "    bq_client.insert_rows_json(jpn_vs_hrv,[row])"
   ]
  }
 ],
 "metadata": {
  "kernelspec": {
   "display_name": "Python 3.10.9 64-bit (microsoft store)",
   "language": "python",
   "name": "python3"
  },
  "language_info": {
   "codemirror_mode": {
    "name": "ipython",
    "version": 3
   },
   "file_extension": ".py",
   "mimetype": "text/x-python",
   "name": "python",
   "nbconvert_exporter": "python",
   "pygments_lexer": "ipython3",
   "version": "3.10.9 (tags/v3.10.9:1dd9be6, Dec  6 2022, 20:01:21) [MSC v.1934 64 bit (AMD64)]"
  },
  "orig_nbformat": 4,
  "vscode": {
   "interpreter": {
    "hash": "5c41cc7a6bf458ae2af5583a7906ef5f402c759b4882f3cbfc8ede19b81b2d2f"
   }
  }
 },
 "nbformat": 4,
 "nbformat_minor": 2
}
