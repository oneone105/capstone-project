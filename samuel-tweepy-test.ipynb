{
 "cells": [
  {
   "cell_type": "code",
   "execution_count": 1,
   "metadata": {},
   "outputs": [],
   "source": [
    "import tweepy\n",
    "from dotenv import load_dotenv\n",
    "import os\n",
    "import pandas as pd\n",
    "from pymongo import MongoClient\n",
    "from google.cloud import bigquery\n",
    "import json\n",
    "\n",
    "client = MongoClient('localhost', 27017)\n",
    "\n",
    "os.environ[\"GOOGLE_APPLICATION_CREDENTIALS\"]= os.getenv('GOOGLE_APPLICATION_CREDENTIALS')\n",
    "bq_client = bigquery.Client()\n",
    "\n",
    "db = client.worldcup\n",
    "\n",
    "load_dotenv()\n",
    "\n",
    "tweepy_client = tweepy.Client(os.getenv('BEARER_TOKEN'), wait_on_rate_limit=True)"
   ]
  },
  {
   "cell_type": "code",
   "execution_count": 28,
   "metadata": {},
   "outputs": [
    {
     "name": "stdout",
     "output_type": "stream",
     "text": [
      "{'hashtags': [{'start': 0, 'end': 4, 'tag': 'JPN'}, {'start': 5, 'end': 9, 'tag': 'HRV'}]}\n",
      "entities {'hashtags': [{'start': 0, 'end': 4, 'tag': 'JPN'}, {'start': 5, 'end': 9, 'tag': 'HRV'}]}\n",
      "source Twitter for Android\n",
      "edit_history_tweet_ids ['1601715690377207808']\n",
      "author_id 32342156\n",
      "id 1601715690377207808\n",
      "lang qht\n",
      "created_at 2022-12-10T23:09:13.000Z\n",
      "text #JPN #HRV\n"
     ]
    }
   ],
   "source": [
    "query = '#JPN #HRV -is:retweet'\n",
    "\n",
    "tweets = tweepy.Paginator(tweepy_client.search_recent_tweets, \n",
    "                        query=query,\n",
    "                        tweet_fields = ['author_id', 'created_at', 'source', 'lang', 'geo', 'entities'], \n",
    "                        user_fields = ['name','username','location','verified'], \n",
    "                        expansions = ['geo.place_id', 'author_id'], \n",
    "                        place_fields = ['country','country_code']\n",
    "                        )\n",
    "\n",
    "# for tweet in tweets:\n",
    "#     print (tweet.includes)\n",
    "#     print (type(tweet.includes))\n",
    "#     break\n",
    "\n",
    "\n",
    "\n",
    "for tweet in tweets.flatten():\n",
    "    try:\n",
    "        print(tweet.data['entities'])\n",
    "        for key, value in tweet.data.items():\n",
    "            print (key, value)\n",
    "        # db.a.insert_one(tweet)\n",
    "        break\n",
    "    except ValueError as e:\n",
    "        print(e)"
   ]
  },
  {
   "cell_type": "code",
   "execution_count": null,
   "metadata": {},
   "outputs": [],
   "source": [
    "search_query = \"#JPN #HRV\"\n",
    "no_of_tweets = 1\n",
    "\n",
    "tweets = tweepy_client.search_recent_tweets(query=search_query)\n",
    "\n",
    "\n",
    "# i=0\n",
    "for tweet in tweets:\n",
    "    try:\n",
    "        # content = {\n",
    "        #     \"Id\": tweet.id,\n",
    "        #     \"Location\": tweet.user.location,\n",
    "        #     \"Date_Created\": tweet.created_at,\n",
    "        #     \"Tweet\": tweet.text,\n",
    "        #     \"Reply_to\": tweet.in_reply_to_user_id,\n",
    "        #     \"Lang\": tweet.lang,\n",
    "        #     \"No_of_Likes\": tweet.public_metrics.like_count,\n",
    "        #     \"No_of_Replies\": tweet.public_metrics.reply_count,\n",
    "        #     \"No_of_retweets\": tweet.public_metrics.retweet_count,\n",
    "        #     \"Source_of_Tweet\": tweet.source\n",
    "        # }\n",
    "        print(tweet)\n",
    "        print(type(tweet))\n",
    "        break\n",
    "        # db.t.insert_one(tweet)\n",
    "        print(i)\n",
    "    except ValueError as e:\n",
    "        print(e)"
   ]
  },
  {
   "cell_type": "code",
   "execution_count": null,
   "metadata": {},
   "outputs": [],
   "source": [
    "jpn_vs_hrv = bq_client.get_table('tecky-capstone-project.worldcup.jpn_hrv')\n",
    "\n",
    "x = db.jh.find()\n",
    "for row in x:\n",
    "    row['_id'] = str(row['_id'])\n",
    "    row['Date_Created'] = str(row['Date_Created'])\n",
    "    bq_client.insert_rows_json(jpn_vs_hrv,[row])"
   ]
  }
 ],
 "metadata": {
  "interpreter": {
   "hash": "e7370f93d1d0cde622a1f8e1c04877d8463912d04d973331ad4851f04de6915a"
  },
  "kernelspec": {
   "display_name": "Python 3.10.6 64-bit",
   "language": "python",
   "name": "python3"
  },
  "language_info": {
   "codemirror_mode": {
    "name": "ipython",
    "version": 3
   },
   "file_extension": ".py",
   "mimetype": "text/x-python",
   "name": "python",
   "nbconvert_exporter": "python",
   "pygments_lexer": "ipython3",
   "version": "3.10.6"
  },
  "orig_nbformat": 4
 },
 "nbformat": 4,
 "nbformat_minor": 2
}
