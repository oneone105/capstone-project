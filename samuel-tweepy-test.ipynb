{
 "cells": [
  {
   "cell_type": "code",
   "execution_count": 4,
   "metadata": {},
   "outputs": [
    {
     "ename": "TypeError",
     "evalue": "str expected, not NoneType",
     "output_type": "error",
     "traceback": [
      "\u001b[0;31m---------------------------------------------------------------------------\u001b[0m",
      "\u001b[0;31mTypeError\u001b[0m                                 Traceback (most recent call last)",
      "Cell \u001b[0;32mIn[4], line 11\u001b[0m\n\u001b[1;32m      7\u001b[0m \u001b[39mimport\u001b[39;00m \u001b[39mjson\u001b[39;00m\n\u001b[1;32m      9\u001b[0m client \u001b[39m=\u001b[39m MongoClient(\u001b[39m'\u001b[39m\u001b[39mlocalhost\u001b[39m\u001b[39m'\u001b[39m, \u001b[39m27017\u001b[39m)\n\u001b[0;32m---> 11\u001b[0m os\u001b[39m.\u001b[39;49menviron[\u001b[39m\"\u001b[39;49m\u001b[39mGOOGLE_APPLICATION_CREDENTIALS\u001b[39;49m\u001b[39m\"\u001b[39;49m]\u001b[39m=\u001b[39m os\u001b[39m.\u001b[39mgetenv(\u001b[39m'\u001b[39m\u001b[39mGOOGLE_APPLICATION_CREDENTIALS\u001b[39m\u001b[39m'\u001b[39m)\n\u001b[1;32m     12\u001b[0m bq_client \u001b[39m=\u001b[39m bigquery\u001b[39m.\u001b[39mClient()\n\u001b[1;32m     14\u001b[0m db \u001b[39m=\u001b[39m client\u001b[39m.\u001b[39mworldcup\n",
      "File \u001b[0;32m/usr/lib/python3.10/os.py:684\u001b[0m, in \u001b[0;36m_Environ.__setitem__\u001b[0;34m(self, key, value)\u001b[0m\n\u001b[1;32m    682\u001b[0m \u001b[39mdef\u001b[39;00m \u001b[39m__setitem__\u001b[39m(\u001b[39mself\u001b[39m, key, value):\n\u001b[1;32m    683\u001b[0m     key \u001b[39m=\u001b[39m \u001b[39mself\u001b[39m\u001b[39m.\u001b[39mencodekey(key)\n\u001b[0;32m--> 684\u001b[0m     value \u001b[39m=\u001b[39m \u001b[39mself\u001b[39;49m\u001b[39m.\u001b[39;49mencodevalue(value)\n\u001b[1;32m    685\u001b[0m     putenv(key, value)\n\u001b[1;32m    686\u001b[0m     \u001b[39mself\u001b[39m\u001b[39m.\u001b[39m_data[key] \u001b[39m=\u001b[39m value\n",
      "File \u001b[0;32m/usr/lib/python3.10/os.py:756\u001b[0m, in \u001b[0;36m_createenviron.<locals>.encode\u001b[0;34m(value)\u001b[0m\n\u001b[1;32m    754\u001b[0m \u001b[39mdef\u001b[39;00m \u001b[39mencode\u001b[39m(value):\n\u001b[1;32m    755\u001b[0m     \u001b[39mif\u001b[39;00m \u001b[39mnot\u001b[39;00m \u001b[39misinstance\u001b[39m(value, \u001b[39mstr\u001b[39m):\n\u001b[0;32m--> 756\u001b[0m         \u001b[39mraise\u001b[39;00m \u001b[39mTypeError\u001b[39;00m(\u001b[39m\"\u001b[39m\u001b[39mstr expected, not \u001b[39m\u001b[39m%s\u001b[39;00m\u001b[39m\"\u001b[39m \u001b[39m%\u001b[39m \u001b[39mtype\u001b[39m(value)\u001b[39m.\u001b[39m\u001b[39m__name__\u001b[39m)\n\u001b[1;32m    757\u001b[0m     \u001b[39mreturn\u001b[39;00m value\u001b[39m.\u001b[39mencode(encoding, \u001b[39m'\u001b[39m\u001b[39msurrogateescape\u001b[39m\u001b[39m'\u001b[39m)\n",
      "\u001b[0;31mTypeError\u001b[0m: str expected, not NoneType"
     ]
    }
   ],
   "source": [
    "import tweepy\n",
    "from dotenv import load_dotenv\n",
    "import os\n",
    "import pandas as pd\n",
    "from pymongo import MongoClient\n",
    "# from google.cloud import bigquery\n",
    "import json\n",
    "\n",
    "client = MongoClient('localhost', 27017)\n",
    "\n",
    "# os.environ[\"GOOGLE_APPLICATION_CREDENTIALS\"]= os.getenv('GOOGLE_APPLICATION_CREDENTIALS')\n",
    "# bq_client = bigquery.Client()\n",
    "\n",
    "db = client.worldcup\n",
    "\n",
    "load_dotenv()\n",
    "\n",
    "tweepy_client = tweepy.Client(os.getenv('BEARER_TOKEN'), wait_on_rate_limit=True)"
   ]
  },
  {
   "cell_type": "code",
   "execution_count": 105,
   "metadata": {},
   "outputs": [],
   "source": [
    "query = '#ARG OR #HRV -is:retweet'\n",
    "\n",
    "paginator = tweepy.Paginator(tweepy_client.search_recent_tweets, \n",
    "                        query=query,\n",
    "                        tweet_fields = ['author_id', 'created_at', 'source', 'lang', 'geo', 'public_metrics', 'entities', 'context_annotations', 'attachments'], \n",
    "                        media_fields = ['preview_image_url', 'media_key', 'type', 'url'],\n",
    "                        exclude=['retweets', 'replies'],\n",
    "                        expansions = ['author_id', 'attachments.media_keys'], \n",
    "                        start_time = '2022-12-13T00:00:00.000Z',\n",
    "                        end_time = '2022-12-14T00:00:00.000Z',\n",
    "                        max_results = 100\n",
    "                        )\n",
    "\n",
    "for page in paginator:\n",
    "    \n",
    "    users = {u[\"id\"]: u for u in page.includes['users']}\n",
    "    media = {m[\"media_key\"]: m for m in page.includes['media']}\n",
    "\n",
    "    for tweet in page.data:\n",
    "\n",
    "        if users[tweet.author_id]:\n",
    "            user = users[tweet.author_id]\n",
    "\n",
    "        # if media:\n",
    "        #     attachments = tweet.data['attachments']\n",
    "        #     media_keys = attachments['media_keys']\n",
    "        #     media_info = {\n",
    "        #         \"media_key\": media_keys,\n",
    "        #         \"media_type\": media[media_keys[0]].type,\n",
    "        #         \"preview_image_url\": media[media_keys[0]].preview_image_url\n",
    "        #     }\n",
    "        # else:\n",
    "        #     media_info = \"\"\n",
    "        \n",
    "        tweet_content = {\n",
    "            \"tweet_id\": tweet.id,\n",
    "            \"author\": user,\n",
    "            \"created_at\": tweet.created_at,\n",
    "            \"source\": tweet.source,\n",
    "            \"lang\": tweet.lang,\n",
    "            \"geo\": tweet.geo,\n",
    "            \"public_metrics\": tweet.public_metrics,\n",
    "            \"entites\": tweet.entities,\n",
    "            \"text\": tweet.text,\n",
    "            # \"media\": media_info\n",
    "        }\n",
    "        \n",
    "        db.testarghrv.insert_one(tweet_content)\n",
    "\n",
    "# for tweet in tweets.flatten():\n",
    "#     try:\n",
    "#         print(\"1. \",tweet.data['entities'])\n",
    "#         print(\"2. \",tweet.includes['name'])\n",
    "#         for key, value in tweet.data.items():\n",
    "#             print (key, value)\n",
    "#         # db.a.insert_one(tweet)\n",
    "#         break\n",
    "#     except ValueError as e:\n",
    "#         print(e)"
   ]
  },
  {
   "cell_type": "code",
   "execution_count": 3,
   "metadata": {},
   "outputs": [
    {
     "name": "stdout",
     "output_type": "stream",
     "text": [
      "{'_id': ObjectId('63991486c3841c0557044353'), 'tweet_id': 1602815620353073152, 'author': {'id': 1152570459835252737, 'name': 'Cucciolina9625', 'username': 'Cucciolina96251'}, 'created_at': datetime.datetime(2022, 12, 13, 23, 59, 57), 'source': 'Twitter for Android', 'lang': 'it', 'geo': None, 'retweet': {'retweet_count': 1, 'reply_count': 0, 'like_count': 0, 'quote_count': 0}, 'entites': {'hashtags': [{'start': 17, 'end': 26, 'tag': 'Mondiale'}, {'start': 66, 'end': 70, 'tag': 'ARG'}, {'start': 71, 'end': 75, 'tag': 'HRV'}, {'start': 76, 'end': 86, 'tag': 'Qatar2022'}], 'mentions': [{'start': 3, 'end': 15, 'username': 'corradone91', 'id': '757599085641789440'}]}, 'text': 'RT @corradone91: #Mondiale onnipotente di Leo Messi. STREPITOSO \\n\\n#ARG #HRV #Qatar2022'}\n"
     ]
    }
   ],
   "source": [
    "arghrv = db.testarghrv.find()\n",
    "\n",
    "for ah in arghrv:\n",
    "    print(ah)\n",
    "    hashtags = []\n",
    "    for hashtag in ah.entities.hashtag:\n",
    "        hashtags.append(hashtag.tag)\n",
    "    tweet = {\n",
    "        \"tweet_id\": ah.tweet_id,\n",
    "        \"author_id\": ah.author.id,\n",
    "        \"author_name\": ah.author.name,\n",
    "        \"author_username\": ah.author.username,\n",
    "        \"created_at\": ah.created_at,\n",
    "        \"source\": ah.source,\n",
    "        \"lang\": ah.lang,\n",
    "        \"geo\": ah.geo,\n",
    "        \"retweet\": ah.retweet.retweet_count,\n",
    "        \"reply\": ah.retweet.reply_count,\n",
    "        \"like\": ah.retweet.like_count,\n",
    "        \"quote\": ah.retweet.quote_count,\n",
    "        \"hashtags\": \",\".join(hashtags),\n",
    "        \"mentions\": ah.entities,\n",
    "        \"hashtags\": ah.entities,\n",
    "        \"hashtags\": ah.entities,\n",
    "        \"text\": tweet.text,\n",
    "    }\n",
    "    break"
   ]
  },
  {
   "cell_type": "code",
   "execution_count": null,
   "metadata": {},
   "outputs": [],
   "source": [
    "jpn_vs_hrv = bq_client.get_table('tecky-capstone-project.worldcup.jpn_hrv')\n",
    "\n",
    "x = db.jh.find()\n",
    "for row in x:\n",
    "    row['_id'] = str(row['_id'])\n",
    "    row['Date_Created'] = str(row['Date_Created'])\n",
    "    bq_client.insert_rows_json(jpn_vs_hrv,[row])"
   ]
  }
 ],
 "metadata": {
  "kernelspec": {
   "display_name": "Python 3.10.9 64-bit (microsoft store)",
   "language": "python",
   "name": "python3"
  },
  "language_info": {
   "codemirror_mode": {
    "name": "ipython",
    "version": 3
   },
   "file_extension": ".py",
   "mimetype": "text/x-python",
   "name": "python",
   "nbconvert_exporter": "python",
   "pygments_lexer": "ipython3",
   "version": "3.10.9 (tags/v3.10.9:1dd9be6, Dec  6 2022, 20:01:21) [MSC v.1934 64 bit (AMD64)]"
  },
  "orig_nbformat": 4,
  "vscode": {
   "interpreter": {
    "hash": "5c41cc7a6bf458ae2af5583a7906ef5f402c759b4882f3cbfc8ede19b81b2d2f"
   }
  }
 },
 "nbformat": 4,
 "nbformat_minor": 2
}
