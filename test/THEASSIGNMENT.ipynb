{
 "cells": [
  {
   "cell_type": "code",
   "execution_count": null,
   "id": "f835c83a",
   "metadata": {},
   "outputs": [],
   "source": [
    "#installing modules\n",
    "!pip install tweepy\n",
    "!pip install textblob\n",
    "nltk.download('vader_lexicon')\n",
    "!pip install wordcloud"
   ]
  },
  {
   "cell_type": "code",
   "execution_count": null,
   "id": "6a8bb1a0",
   "metadata": {},
   "outputs": [],
   "source": [
    "#Importing modules\n",
    "import pandas as pd\n",
    "import tweepy\n",
    "from nltk.sentiment.vader import SentimentIntensityAnalyzer\n",
    "from textblob import TextBlob\n",
    "import re\n",
    "import nltk\n",
    "import numpy as np\n",
    "from PIL import Image\n",
    "from wordcloud import WordCloud, STOPWORDS\n",
    "import matplotlib.pyplot as plt"
   ]
  },
  {
   "cell_type": "markdown",
   "id": "f1390920",
   "metadata": {},
   "source": [
    "Scraping tweets"
   ]
  },
  {
   "cell_type": "code",
   "execution_count": null,
   "id": "5ddd746d",
   "metadata": {},
   "outputs": [],
   "source": [
    "client = tweepy.Client(bearer_token='AAAAAAAAAAAAAAAAAAAAAGe%2BkQEAAAAA5T6U0eMNYZKzypB%2FALTy3C6tId0%3DJXqwPg3V48Xh0S1owFVWMzgRsbzeWWxeB1QxRG88SaUNqdms1U')"
   ]
  },
  {
   "cell_type": "code",
   "execution_count": null,
   "id": "7b5885be",
   "metadata": {},
   "outputs": [],
   "source": [
    "#Scraping Argentina\n",
    "query = '#Argentina lang:en'\n"
   ]
  },
  {
   "cell_type": "code",
   "execution_count": null,
   "id": "e9877963",
   "metadata": {},
   "outputs": [],
   "source": [
    "#Scraping France\n",
    "query = '#France lang:en'\n"
   ]
  },
  {
   "cell_type": "code",
   "execution_count": null,
   "id": "6a53b328",
   "metadata": {},
   "outputs": [],
   "source": [
    "#Scraping Croatia\n",
    "query = '#Croatia lang:en'\n"
   ]
  },
  {
   "cell_type": "code",
   "execution_count": null,
   "id": "ecb2963b",
   "metadata": {},
   "outputs": [],
   "source": [
    "#Scraping Morocco\n",
    "query = '#Morocco lang:en'\n"
   ]
  },
  {
   "cell_type": "code",
   "execution_count": null,
   "id": "90d05c31",
   "metadata": {},
   "outputs": [],
   "source": [
    "paginator = tweepy.Paginator(\n",
    "client.search_recent_tweets,   \n",
    "query=query,                   \n",
    "max_results=100,               \n",
    "limit=10                       \n",
    ")\n"
   ]
  },
  {
   "cell_type": "code",
   "execution_count": null,
   "id": "856176a3",
   "metadata": {},
   "outputs": [],
   "source": [
    "tweet_list = []\n",
    "for tweet in paginator.flatten(): \n",
    "    tweet_list.append(tweet)\n",
    "    print(tweet)"
   ]
  },
  {
   "cell_type": "code",
   "execution_count": null,
   "id": "8b548df0",
   "metadata": {},
   "outputs": [],
   "source": [
    "tweet_list_df = pd.DataFrame(tweet_list)\n",
    "tweet_list_df = pd.DataFrame(tweet_list_df['text'])\n",
    "tweet_list_df.head(5)"
   ]
  },
  {
   "cell_type": "code",
   "execution_count": null,
   "id": "a6597976",
   "metadata": {},
   "outputs": [],
   "source": [
    "def preprocess_tweet(sen):\n",
    "    '''Cleans text data up, leaving only 2 or more char long non-stepwords composed of A-Z & a-z only in lowercase'''\n",
    "    sentence = sen.lower()\n",
    "    # Remove RT\n",
    "    sentence = re.sub('RT @\\w+: ',\" \", sentence)\n",
    "    # Remove punctuations and numbers\n",
    "    sentence = re.sub(\"(@[A-Za-z0-9]+)|([^0-9A-Za-z \\t])|(\\w+:\\/\\/\\S+)\",\" \", sentence)\n",
    "    # Single character removal\n",
    "    sentence = re.sub(r\"\\s+[a-zA-Z]\\s+\", ' ', sentence)\n",
    "    # Remove multiple spaces\n",
    "    sentence = re.sub(r'\\s+', ' ', sentence) \n",
    "    return sentence"
   ]
  },
  {
   "cell_type": "code",
   "execution_count": null,
   "id": "e9c79bce",
   "metadata": {},
   "outputs": [],
   "source": [
    "cleaned_tweets = []\n",
    "for tweet in tweet_list_df['text']:\n",
    "    cleaned_tweet = preprocess_tweet(tweet)\n",
    "    cleaned_tweets.append(cleaned_tweet)\n",
    "tweet_list_df['cleaned'] = pd.DataFrame(cleaned_tweets)\n",
    "tweet_list_df.head(5)"
   ]
  },
  {
   "cell_type": "code",
   "execution_count": null,
   "id": "987507da",
   "metadata": {},
   "outputs": [],
   "source": [
    "#Calculating Negative, Positive, Neutral and Compound values\n",
    "tweet_list_df[['polarity', 'subjectivity']] = tweet_list_df['cleaned'].apply(lambda Text: pd.Series(TextBlob(Text).sentiment))\n",
    "for index, row in tweet_list_df['cleaned'].iteritems():\n",
    "    score = SentimentIntensityAnalyzer().polarity_scores(row)\n",
    "    neg = score['neg']\n",
    "    neu = score['neu']\n",
    "    pos = score['pos']\n",
    "    comp = score['compound']\n",
    "    if comp <= -0.05:\n",
    "        tweet_list_df.loc[index, 'sentiment'] = \"negative\"\n",
    "    elif comp >= 0.05:\n",
    "        tweet_list_df.loc[index, 'sentiment'] = \"positive\"\n",
    "    else:\n",
    "        tweet_list_df.loc[index, 'sentiment'] = \"neutral\"\n",
    "    \n",
    "    tweet_list_df.loc[index, 'neg'] = neg\n",
    "    tweet_list_df.loc[index, 'neu'] = neu\n",
    "    tweet_list_df.loc[index, 'pos'] = pos\n",
    "    tweet_list_df.loc[index, 'compound'] = comp\n",
    "tweet_list_df.head(5)"
   ]
  },
  {
   "cell_type": "code",
   "execution_count": null,
   "id": "52de016e",
   "metadata": {},
   "outputs": [],
   "source": [
    "#Creating new dataframes for all sentiments (positive, negative and neutral)\n",
    "tweet_list_df_negative = tweet_list_df[tweet_list_df[\"sentiment\"]==\"negative\"]\n",
    "tweet_list_df_positive = tweet_list_df[tweet_list_df[\"sentiment\"]==\"positive\"]\n",
    "tweet_list_df_neutral = tweet_list_df[tweet_list_df[\"sentiment\"]==\"neutral\"]"
   ]
  },
  {
   "cell_type": "code",
   "execution_count": null,
   "id": "b58fe02c",
   "metadata": {},
   "outputs": [],
   "source": [
    "#Function for count_values_in single columns\n",
    "def count_values_in_column(data,feature):\n",
    "    total = data.loc[:,feature].value_counts(dropna=False)\n",
    "    percentage = round(data.loc[:,feature].value_counts(dropna=False,normalize=True)*100,2)\n",
    "    return pd.concat([total,percentage],axis=1,keys=['Total','Percentage'])\n",
    "#Count_values for sentiment\n",
    "count_values_in_column(tweet_list_df,\"sentiment\")"
   ]
  },
  {
   "cell_type": "code",
   "execution_count": null,
   "id": "63d99c59",
   "metadata": {},
   "outputs": [],
   "source": [
    "#Calculating tweet's length and word count\n",
    "tweet_list_df['text_len'] = tweet_list_df['cleaned'].astype(str).apply(len)\n",
    "tweet_list_df['text_word_count'] = tweet_list_df['cleaned'].apply(lambda x: len(str(x).split()))\n",
    "\n",
    "round(pd.DataFrame(tweet_list_df.groupby(\"sentiment\").text_len.mean()),2)\n",
    "round(pd.DataFrame(tweet_list_df.groupby(\"sentiment\").text_word_count.mean()),2)\n"
   ]
  },
  {
   "cell_type": "code",
   "execution_count": null,
   "id": "4448bb31",
   "metadata": {},
   "outputs": [],
   "source": [
    "#Saving to CSV\n",
    "tweet_list_df.to_csv('Argentina')"
   ]
  },
  {
   "cell_type": "code",
   "execution_count": null,
   "id": "24fd6446",
   "metadata": {},
   "outputs": [],
   "source": [
    "#Saving to CSV\n",
    "tweet_list_df.to_csv('France')"
   ]
  },
  {
   "cell_type": "code",
   "execution_count": null,
   "id": "b3b3b1b1",
   "metadata": {},
   "outputs": [],
   "source": [
    "#Saving to CSV\n",
    "tweet_list_df.to_csv('Croatia')"
   ]
  },
  {
   "cell_type": "code",
   "execution_count": null,
   "id": "3451c6e2",
   "metadata": {},
   "outputs": [],
   "source": [
    "#Saving to CSV\n",
    "tweet_list_df.to_csv('Morocco')"
   ]
  },
  {
   "cell_type": "code",
   "execution_count": null,
   "id": "27e0a8a4",
   "metadata": {},
   "outputs": [],
   "source": [
    "def load_table_to_bigquery(df,\n",
    "                           table_name,\n",
    "                           dataset_id):\n",
    "\n",
    "    dataset_id = dataset_id \n",
    "\n",
    "    dataset_ref = bigquery_client.dataset(dataset_id)\n",
    "    job_config = bigquery.LoadJobConfig()\n",
    "    job_config.autodetect = True\n",
    "    job_config.write_disposition = \"WRITE_TRUNCATE\"\n",
    "\n",
    "    upload_table_name = f\"{dataset_id}.{table_name}\"\n",
    "    \n",
    "    load_job = bigquery_client.load_table_from_dataframe(df,\n",
    "                                                         upload_table_name,\n",
    "                                                         job_config = job_config)\n",
    "        \n",
    "    print(f\"completed job {load_job}\")"
   ]
  },
  {
   "cell_type": "code",
   "execution_count": null,
   "id": "0b417331",
   "metadata": {},
   "outputs": [],
   "source": [
    "load_table_to_bigquery(df=tweet_list_df.astype(str), \n",
    "                       table_name=\"tweet_list_df\", \n",
    "                       dataset_id=dataset_id)"
   ]
  },
  {
   "cell_type": "code",
   "execution_count": null,
   "id": "efd3ad4a",
   "metadata": {},
   "outputs": [],
   "source": []
  }
 ],
 "metadata": {
  "kernelspec": {
   "display_name": "Python 3",
   "language": "python",
   "name": "python3"
  },
  "language_info": {
   "codemirror_mode": {
    "name": "ipython",
    "version": 3
   },
   "file_extension": ".py",
   "mimetype": "text/x-python",
   "name": "python",
   "nbconvert_exporter": "python",
   "pygments_lexer": "ipython3",
   "version": "3.10.9 (tags/v3.10.9:1dd9be6, Dec  6 2022, 20:01:21) [MSC v.1934 64 bit (AMD64)]"
  },
  "vscode": {
   "interpreter": {
    "hash": "5c41cc7a6bf458ae2af5583a7906ef5f402c759b4882f3cbfc8ede19b81b2d2f"
   }
  }
 },
 "nbformat": 4,
 "nbformat_minor": 5
}
