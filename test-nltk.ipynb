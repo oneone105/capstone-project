{
 "cells": [
  {
   "cell_type": "code",
   "execution_count": 8,
   "metadata": {},
   "outputs": [
    {
     "name": "stdout",
     "output_type": "stream",
     "text": [
      "NLTK Downloader\n",
      "---------------------------------------------------------------------------\n",
      "    d) Download   l) List    u) Update   c) Config   h) Help   q) Quit\n",
      "---------------------------------------------------------------------------\n",
      "\n",
      "Download which package (l=list; x=cancel)?\n",
      "Packages:\n",
      "  [ ] abc................. Australian Broadcasting Commission 2006\n",
      "  [ ] alpino.............. Alpino Dutch Treebank\n",
      "  [ ] averaged_perceptron_tagger Averaged Perceptron Tagger\n",
      "  [ ] averaged_perceptron_tagger_ru Averaged Perceptron Tagger (Russian)\n",
      "  [ ] basque_grammars..... Grammars for Basque\n",
      "  [ ] bcp47............... BCP-47 Language Tags\n",
      "  [ ] biocreative_ppi..... BioCreAtIvE (Critical Assessment of Information\n",
      "                           Extraction Systems in Biology)\n",
      "  [ ] bllip_wsj_no_aux.... BLLIP Parser: WSJ Model\n",
      "  [ ] book_grammars....... Grammars from NLTK Book\n",
      "  [ ] brown............... Brown Corpus\n",
      "  [ ] brown_tei........... Brown Corpus (TEI XML Version)\n",
      "  [ ] cess_cat............ CESS-CAT Treebank\n",
      "  [ ] cess_esp............ CESS-ESP Treebank\n",
      "  [ ] chat80.............. Chat-80 Data Files\n",
      "  [ ] city_database....... City Database\n",
      "  [ ] cmudict............. The Carnegie Mellon Pronouncing Dictionary (0.6)\n",
      "  [ ] comparative_sentences Comparative Sentence Dataset\n",
      "  [ ] comtrans............ ComTrans Corpus Sample\n",
      "  [ ] conll2000........... CONLL 2000 Chunking Corpus\n",
      "  [ ] conll2002........... CONLL 2002 Named Entity Recognition Corpus\n",
      "  [ ] conll2007........... Dependency Treebanks from CoNLL 2007 (Catalan\n",
      "                           and Basque Subset)\n",
      "  [ ] crubadan............ Crubadan Corpus\n",
      "  [ ] dependency_treebank. Dependency Parsed Treebank\n",
      "  [ ] dolch............... Dolch Word List\n",
      "  [ ] europarl_raw........ Sample European Parliament Proceedings Parallel\n",
      "                           Corpus\n",
      "  [ ] extended_omw........ Extended Open Multilingual WordNet\n",
      "  [ ] floresta............ Portuguese Treebank\n",
      "  [ ] framenet_v15........ FrameNet 1.5\n",
      "  [ ] framenet_v17........ FrameNet 1.7\n",
      "  [ ] gazetteers.......... Gazeteer Lists\n",
      "  [ ] genesis............. Genesis Corpus\n",
      "  [ ] gutenberg........... Project Gutenberg Selections\n",
      "  [ ] ieer................ NIST IE-ER DATA SAMPLE\n",
      "  [ ] inaugural........... C-Span Inaugural Address Corpus\n",
      "  [ ] indian.............. Indian Language POS-Tagged Corpus\n",
      "  [ ] jeita............... JEITA Public Morphologically Tagged Corpus (in\n",
      "                           ChaSen format)\n",
      "  [ ] kimmo............... PC-KIMMO Data Files\n",
      "  [ ] knbc................ KNB Corpus (Annotated blog corpus)\n",
      "  [ ] large_grammars...... Large context-free and feature-based grammars\n",
      "                           for parser comparison\n",
      "  [ ] lin_thesaurus....... Lin's Dependency Thesaurus\n",
      "  [ ] mac_morpho.......... MAC-MORPHO: Brazilian Portuguese news text with\n",
      "                           part-of-speech tags\n",
      "  [ ] machado............. Machado de Assis -- Obra Completa\n",
      "  [ ] masc_tagged......... MASC Tagged Corpus\n",
      "  [ ] maxent_ne_chunker... ACE Named Entity Chunker (Maximum entropy)\n",
      "  [ ] maxent_treebank_pos_tagger Treebank Part of Speech Tagger (Maximum entropy)\n",
      "  [ ] moses_sample........ Moses Sample Models\n",
      "  [ ] movie_reviews....... Sentiment Polarity Dataset Version 2.0\n",
      "  [ ] mte_teip5........... MULTEXT-East 1984 annotated corpus 4.0\n",
      "  [ ] mwa_ppdb............ The monolingual word aligner (Sultan et al.\n",
      "                           2015) subset of the Paraphrase Database.\n",
      "  [ ] names............... Names Corpus, Version 1.3 (1994-03-29)\n",
      "  [ ] nombank.1.0......... NomBank Corpus 1.0\n",
      "  [ ] nonbreaking_prefixes Non-Breaking Prefixes (Moses Decoder)\n",
      "  [ ] nps_chat............ NPS Chat\n",
      "  [ ] omw-1.4............. Open Multilingual Wordnet\n",
      "  [ ] omw................. Open Multilingual Wordnet\n",
      "  [ ] opinion_lexicon..... Opinion Lexicon\n",
      "  [ ] panlex_swadesh...... PanLex Swadesh Corpora\n",
      "  [ ] paradigms........... Paradigm Corpus\n",
      "  [ ] pe08................ Cross-Framework and Cross-Domain Parser\n",
      "                           Evaluation Shared Task\n",
      "  [ ] perluniprops........ perluniprops: Index of Unicode Version 7.0.0\n",
      "                           character properties in Perl\n",
      "  [ ] pil................. The Patient Information Leaflet (PIL) Corpus\n",
      "  [ ] pl196x.............. Polish language of the XX century sixties\n",
      "  [ ] porter_test......... Porter Stemmer Test Files\n",
      "  [ ] ppattach............ Prepositional Phrase Attachment Corpus\n",
      "  [ ] problem_reports..... Problem Report Corpus\n",
      "  [ ] product_reviews_1... Product Reviews (5 Products)\n",
      "  [ ] product_reviews_2... Product Reviews (9 Products)\n",
      "  [ ] propbank............ Proposition Bank Corpus 1.0\n",
      "  [ ] pros_cons........... Pros and Cons\n",
      "  [ ] ptb................. Penn Treebank\n",
      "  [ ] punkt............... Punkt Tokenizer Models\n",
      "  [ ] qc.................. Experimental Data for Question Classification\n",
      "  [ ] reuters............. The Reuters-21578 benchmark corpus, ApteMod\n",
      "                           version\n",
      "  [ ] rslp................ RSLP Stemmer (Removedor de Sufixos da Lingua\n",
      "                           Portuguesa)\n",
      "  [ ] rte................. PASCAL RTE Challenges 1, 2, and 3\n",
      "  [ ] sample_grammars..... Sample Grammars\n",
      "  [ ] semcor.............. SemCor 3.0\n",
      "  [ ] senseval............ SENSEVAL 2 Corpus: Sense Tagged Text\n",
      "  [ ] sentence_polarity... Sentence Polarity Dataset v1.0\n",
      "  [ ] sentiwordnet........ SentiWordNet\n",
      "  [ ] shakespeare......... Shakespeare XML Corpus Sample\n",
      "  [ ] sinica_treebank..... Sinica Treebank Corpus Sample\n",
      "  [ ] smultron............ SMULTRON Corpus Sample\n",
      "  [ ] snowball_data....... Snowball Data\n",
      "  [ ] spanish_grammars.... Grammars for Spanish\n",
      "  [ ] state_union......... C-Span State of the Union Address Corpus\n",
      "  [ ] stopwords........... Stopwords Corpus\n",
      "  [ ] subjectivity........ Subjectivity Dataset v1.0\n",
      "  [ ] swadesh............. Swadesh Wordlists\n",
      "  [ ] switchboard......... Switchboard Corpus Sample\n",
      "  [ ] tagsets............. Help on Tagsets\n",
      "  [ ] timit............... TIMIT Corpus Sample\n",
      "  [ ] toolbox............. Toolbox Sample Files\n",
      "\n",
      "Download which package (l=list; x=cancel)?\n",
      "\n",
      "---------------------------------------------------------------------------\n",
      "    d) Download   l) List    u) Update   c) Config   h) Help   q) Quit\n",
      "---------------------------------------------------------------------------\n"
     ]
    },
    {
     "data": {
      "text/plain": [
       "True"
      ]
     },
     "execution_count": 8,
     "metadata": {},
     "output_type": "execute_result"
    }
   ],
   "source": [
    "import nltk\n",
    "\n",
    "nltk.download()"
   ]
  },
  {
   "cell_type": "code",
   "execution_count": 9,
   "metadata": {},
   "outputs": [
    {
     "name": "stdout",
     "output_type": "stream",
     "text": [
      "<class 'str'>\n"
     ]
    },
    {
     "ename": "LookupError",
     "evalue": "\n**********************************************************************\n  Resource \u001b[93mpunkt\u001b[0m not found.\n  Please use the NLTK Downloader to obtain the resource:\n\n  \u001b[31m>>> import nltk\n  >>> nltk.download('punkt')\n  \u001b[0m\n  For more information see: https://www.nltk.org/data.html\n\n  Attempted to load \u001b[93mtokenizers/punkt/PY3/english.pickle\u001b[0m\n\n  Searched in:\n    - '/home/samuelhui/nltk_data'\n    - '/usr/nltk_data'\n    - '/usr/share/nltk_data'\n    - '/usr/lib/nltk_data'\n    - '/usr/share/nltk_data'\n    - '/usr/local/share/nltk_data'\n    - '/usr/lib/nltk_data'\n    - '/usr/local/lib/nltk_data'\n    - ''\n**********************************************************************\n",
     "output_type": "error",
     "traceback": [
      "\u001b[0;31m---------------------------------------------------------------------------\u001b[0m",
      "\u001b[0;31mLookupError\u001b[0m                               Traceback (most recent call last)",
      "Cell \u001b[0;32mIn[9], line 3\u001b[0m\n\u001b[1;32m      1\u001b[0m raw \u001b[38;5;241m=\u001b[39m \u001b[38;5;28mopen\u001b[39m(\u001b[38;5;124m\"\u001b[39m\u001b[38;5;124mjpnhrv-tweets.csv\u001b[39m\u001b[38;5;124m\"\u001b[39m,\u001b[38;5;124m'\u001b[39m\u001b[38;5;124mr\u001b[39m\u001b[38;5;124m'\u001b[39m)\u001b[38;5;241m.\u001b[39mread()\n\u001b[1;32m      2\u001b[0m \u001b[38;5;28mprint\u001b[39m(\u001b[38;5;28mtype\u001b[39m(raw))\n\u001b[0;32m----> 3\u001b[0m tokens \u001b[38;5;241m=\u001b[39m \u001b[43mnltk\u001b[49m\u001b[38;5;241;43m.\u001b[39;49m\u001b[43mword_tokenize\u001b[49m\u001b[43m(\u001b[49m\u001b[43mraw\u001b[49m\u001b[43m)\u001b[49m\n",
      "File \u001b[0;32m~/.local/lib/python3.10/site-packages/nltk/tokenize/__init__.py:129\u001b[0m, in \u001b[0;36mword_tokenize\u001b[0;34m(text, language, preserve_line)\u001b[0m\n\u001b[1;32m    <a href='file:///home/samuelhui/.local/lib/python3.10/site-packages/nltk/tokenize/__init__.py?line=113'>114</a>\u001b[0m \u001b[39mdef\u001b[39;00m \u001b[39mword_tokenize\u001b[39m(text, language\u001b[39m=\u001b[39m\u001b[39m\"\u001b[39m\u001b[39menglish\u001b[39m\u001b[39m\"\u001b[39m, preserve_line\u001b[39m=\u001b[39m\u001b[39mFalse\u001b[39;00m):\n\u001b[1;32m    <a href='file:///home/samuelhui/.local/lib/python3.10/site-packages/nltk/tokenize/__init__.py?line=114'>115</a>\u001b[0m     \u001b[39m\"\"\"\u001b[39;00m\n\u001b[1;32m    <a href='file:///home/samuelhui/.local/lib/python3.10/site-packages/nltk/tokenize/__init__.py?line=115'>116</a>\u001b[0m \u001b[39m    Return a tokenized copy of *text*,\u001b[39;00m\n\u001b[1;32m    <a href='file:///home/samuelhui/.local/lib/python3.10/site-packages/nltk/tokenize/__init__.py?line=116'>117</a>\u001b[0m \u001b[39m    using NLTK's recommended word tokenizer\u001b[39;00m\n\u001b[0;32m   (...)\u001b[0m\n\u001b[1;32m    <a href='file:///home/samuelhui/.local/lib/python3.10/site-packages/nltk/tokenize/__init__.py?line=126'>127</a>\u001b[0m \u001b[39m    :type preserve_line: bool\u001b[39;00m\n\u001b[1;32m    <a href='file:///home/samuelhui/.local/lib/python3.10/site-packages/nltk/tokenize/__init__.py?line=127'>128</a>\u001b[0m \u001b[39m    \"\"\"\u001b[39;00m\n\u001b[0;32m--> <a href='file:///home/samuelhui/.local/lib/python3.10/site-packages/nltk/tokenize/__init__.py?line=128'>129</a>\u001b[0m     sentences \u001b[39m=\u001b[39m [text] \u001b[39mif\u001b[39;00m preserve_line \u001b[39melse\u001b[39;00m sent_tokenize(text, language)\n\u001b[1;32m    <a href='file:///home/samuelhui/.local/lib/python3.10/site-packages/nltk/tokenize/__init__.py?line=129'>130</a>\u001b[0m     \u001b[39mreturn\u001b[39;00m [\n\u001b[1;32m    <a href='file:///home/samuelhui/.local/lib/python3.10/site-packages/nltk/tokenize/__init__.py?line=130'>131</a>\u001b[0m         token \u001b[39mfor\u001b[39;00m sent \u001b[39min\u001b[39;00m sentences \u001b[39mfor\u001b[39;00m token \u001b[39min\u001b[39;00m _treebank_word_tokenizer\u001b[39m.\u001b[39mtokenize(sent)\n\u001b[1;32m    <a href='file:///home/samuelhui/.local/lib/python3.10/site-packages/nltk/tokenize/__init__.py?line=131'>132</a>\u001b[0m     ]\n",
      "File \u001b[0;32m~/.local/lib/python3.10/site-packages/nltk/tokenize/__init__.py:106\u001b[0m, in \u001b[0;36msent_tokenize\u001b[0;34m(text, language)\u001b[0m\n\u001b[1;32m     <a href='file:///home/samuelhui/.local/lib/python3.10/site-packages/nltk/tokenize/__init__.py?line=95'>96</a>\u001b[0m \u001b[39mdef\u001b[39;00m \u001b[39msent_tokenize\u001b[39m(text, language\u001b[39m=\u001b[39m\u001b[39m\"\u001b[39m\u001b[39menglish\u001b[39m\u001b[39m\"\u001b[39m):\n\u001b[1;32m     <a href='file:///home/samuelhui/.local/lib/python3.10/site-packages/nltk/tokenize/__init__.py?line=96'>97</a>\u001b[0m     \u001b[39m\"\"\"\u001b[39;00m\n\u001b[1;32m     <a href='file:///home/samuelhui/.local/lib/python3.10/site-packages/nltk/tokenize/__init__.py?line=97'>98</a>\u001b[0m \u001b[39m    Return a sentence-tokenized copy of *text*,\u001b[39;00m\n\u001b[1;32m     <a href='file:///home/samuelhui/.local/lib/python3.10/site-packages/nltk/tokenize/__init__.py?line=98'>99</a>\u001b[0m \u001b[39m    using NLTK's recommended sentence tokenizer\u001b[39;00m\n\u001b[0;32m   (...)\u001b[0m\n\u001b[1;32m    <a href='file:///home/samuelhui/.local/lib/python3.10/site-packages/nltk/tokenize/__init__.py?line=103'>104</a>\u001b[0m \u001b[39m    :param language: the model name in the Punkt corpus\u001b[39;00m\n\u001b[1;32m    <a href='file:///home/samuelhui/.local/lib/python3.10/site-packages/nltk/tokenize/__init__.py?line=104'>105</a>\u001b[0m \u001b[39m    \"\"\"\u001b[39;00m\n\u001b[0;32m--> <a href='file:///home/samuelhui/.local/lib/python3.10/site-packages/nltk/tokenize/__init__.py?line=105'>106</a>\u001b[0m     tokenizer \u001b[39m=\u001b[39m load(\u001b[39mf\u001b[39;49m\u001b[39m\"\u001b[39;49m\u001b[39mtokenizers/punkt/\u001b[39;49m\u001b[39m{\u001b[39;49;00mlanguage\u001b[39m}\u001b[39;49;00m\u001b[39m.pickle\u001b[39;49m\u001b[39m\"\u001b[39;49m)\n\u001b[1;32m    <a href='file:///home/samuelhui/.local/lib/python3.10/site-packages/nltk/tokenize/__init__.py?line=106'>107</a>\u001b[0m     \u001b[39mreturn\u001b[39;00m tokenizer\u001b[39m.\u001b[39mtokenize(text)\n",
      "File \u001b[0;32m~/.local/lib/python3.10/site-packages/nltk/data.py:750\u001b[0m, in \u001b[0;36mload\u001b[0;34m(resource_url, format, cache, verbose, logic_parser, fstruct_reader, encoding)\u001b[0m\n\u001b[1;32m    <a href='file:///home/samuelhui/.local/lib/python3.10/site-packages/nltk/data.py?line=746'>747</a>\u001b[0m     \u001b[39mprint\u001b[39m(\u001b[39mf\u001b[39m\u001b[39m\"\u001b[39m\u001b[39m<<Loading \u001b[39m\u001b[39m{\u001b[39;00mresource_url\u001b[39m}\u001b[39;00m\u001b[39m>>\u001b[39m\u001b[39m\"\u001b[39m)\n\u001b[1;32m    <a href='file:///home/samuelhui/.local/lib/python3.10/site-packages/nltk/data.py?line=748'>749</a>\u001b[0m \u001b[39m# Load the resource.\u001b[39;00m\n\u001b[0;32m--> <a href='file:///home/samuelhui/.local/lib/python3.10/site-packages/nltk/data.py?line=749'>750</a>\u001b[0m opened_resource \u001b[39m=\u001b[39m _open(resource_url)\n\u001b[1;32m    <a href='file:///home/samuelhui/.local/lib/python3.10/site-packages/nltk/data.py?line=751'>752</a>\u001b[0m \u001b[39mif\u001b[39;00m \u001b[39mformat\u001b[39m \u001b[39m==\u001b[39m \u001b[39m\"\u001b[39m\u001b[39mraw\u001b[39m\u001b[39m\"\u001b[39m:\n\u001b[1;32m    <a href='file:///home/samuelhui/.local/lib/python3.10/site-packages/nltk/data.py?line=752'>753</a>\u001b[0m     resource_val \u001b[39m=\u001b[39m opened_resource\u001b[39m.\u001b[39mread()\n",
      "File \u001b[0;32m~/.local/lib/python3.10/site-packages/nltk/data.py:876\u001b[0m, in \u001b[0;36m_open\u001b[0;34m(resource_url)\u001b[0m\n\u001b[1;32m    <a href='file:///home/samuelhui/.local/lib/python3.10/site-packages/nltk/data.py?line=872'>873</a>\u001b[0m protocol, path_ \u001b[39m=\u001b[39m split_resource_url(resource_url)\n\u001b[1;32m    <a href='file:///home/samuelhui/.local/lib/python3.10/site-packages/nltk/data.py?line=874'>875</a>\u001b[0m \u001b[39mif\u001b[39;00m protocol \u001b[39mis\u001b[39;00m \u001b[39mNone\u001b[39;00m \u001b[39mor\u001b[39;00m protocol\u001b[39m.\u001b[39mlower() \u001b[39m==\u001b[39m \u001b[39m\"\u001b[39m\u001b[39mnltk\u001b[39m\u001b[39m\"\u001b[39m:\n\u001b[0;32m--> <a href='file:///home/samuelhui/.local/lib/python3.10/site-packages/nltk/data.py?line=875'>876</a>\u001b[0m     \u001b[39mreturn\u001b[39;00m find(path_, path \u001b[39m+\u001b[39;49m [\u001b[39m\"\u001b[39;49m\u001b[39m\"\u001b[39;49m])\u001b[39m.\u001b[39mopen()\n\u001b[1;32m    <a href='file:///home/samuelhui/.local/lib/python3.10/site-packages/nltk/data.py?line=876'>877</a>\u001b[0m \u001b[39melif\u001b[39;00m protocol\u001b[39m.\u001b[39mlower() \u001b[39m==\u001b[39m \u001b[39m\"\u001b[39m\u001b[39mfile\u001b[39m\u001b[39m\"\u001b[39m:\n\u001b[1;32m    <a href='file:///home/samuelhui/.local/lib/python3.10/site-packages/nltk/data.py?line=877'>878</a>\u001b[0m     \u001b[39m# urllib might not use mode='rb', so handle this one ourselves:\u001b[39;00m\n\u001b[1;32m    <a href='file:///home/samuelhui/.local/lib/python3.10/site-packages/nltk/data.py?line=878'>879</a>\u001b[0m     \u001b[39mreturn\u001b[39;00m find(path_, [\u001b[39m\"\u001b[39m\u001b[39m\"\u001b[39m])\u001b[39m.\u001b[39mopen()\n",
      "File \u001b[0;32m~/.local/lib/python3.10/site-packages/nltk/data.py:583\u001b[0m, in \u001b[0;36mfind\u001b[0;34m(resource_name, paths)\u001b[0m\n\u001b[1;32m    <a href='file:///home/samuelhui/.local/lib/python3.10/site-packages/nltk/data.py?line=580'>581</a>\u001b[0m sep \u001b[39m=\u001b[39m \u001b[39m\"\u001b[39m\u001b[39m*\u001b[39m\u001b[39m\"\u001b[39m \u001b[39m*\u001b[39m \u001b[39m70\u001b[39m\n\u001b[1;32m    <a href='file:///home/samuelhui/.local/lib/python3.10/site-packages/nltk/data.py?line=581'>582</a>\u001b[0m resource_not_found \u001b[39m=\u001b[39m \u001b[39mf\u001b[39m\u001b[39m\"\u001b[39m\u001b[39m\\n\u001b[39;00m\u001b[39m{\u001b[39;00msep\u001b[39m}\u001b[39;00m\u001b[39m\\n\u001b[39;00m\u001b[39m{\u001b[39;00mmsg\u001b[39m}\u001b[39;00m\u001b[39m\\n\u001b[39;00m\u001b[39m{\u001b[39;00msep\u001b[39m}\u001b[39;00m\u001b[39m\\n\u001b[39;00m\u001b[39m\"\u001b[39m\n\u001b[0;32m--> <a href='file:///home/samuelhui/.local/lib/python3.10/site-packages/nltk/data.py?line=582'>583</a>\u001b[0m \u001b[39mraise\u001b[39;00m \u001b[39mLookupError\u001b[39;00m(resource_not_found)\n",
      "\u001b[0;31mLookupError\u001b[0m: \n**********************************************************************\n  Resource \u001b[93mpunkt\u001b[0m not found.\n  Please use the NLTK Downloader to obtain the resource:\n\n  \u001b[31m>>> import nltk\n  >>> nltk.download('punkt')\n  \u001b[0m\n  For more information see: https://www.nltk.org/data.html\n\n  Attempted to load \u001b[93mtokenizers/punkt/PY3/english.pickle\u001b[0m\n\n  Searched in:\n    - '/home/samuelhui/nltk_data'\n    - '/usr/nltk_data'\n    - '/usr/share/nltk_data'\n    - '/usr/lib/nltk_data'\n    - '/usr/share/nltk_data'\n    - '/usr/local/share/nltk_data'\n    - '/usr/lib/nltk_data'\n    - '/usr/local/lib/nltk_data'\n    - ''\n**********************************************************************\n"
     ]
    }
   ],
   "source": [
    "raw = open(\"jpnhrv-tweets.csv\",'r').read()\n",
    "print(type(raw))\n",
    "tokens = nltk.word_tokenize(raw)"
   ]
  },
  {
   "cell_type": "code",
   "execution_count": 3,
   "metadata": {},
   "outputs": [
    {
     "name": "stdout",
     "output_type": "stream",
     "text": [
      "Displaying 1 of 1 matches:\n",
      "r,2022-12-02 21:00:20+00:00 Leader of the HOME brigade⁷ , Villa Grazia,2022-12-\n"
     ]
    }
   ],
   "source": [
    "tweet_text = nltk.Text(tokens)\n",
    "\n",
    "# 搵keywords\n",
    "tweet_text.concordance(\"The\")"
   ]
  },
  {
   "cell_type": "code",
   "execution_count": 5,
   "metadata": {},
   "outputs": [],
   "source": [
    "jpn_hrv_raw = open(\"./('#JPN', '#HRV')-tweets.csv\",'r').read()\n",
    "jh_tokens = nltk.word_tokenize(jpn_hrv_raw)"
   ]
  },
  {
   "cell_type": "code",
   "execution_count": 6,
   "metadata": {},
   "outputs": [],
   "source": [
    "from nltk.corpus import stopwords\n",
    "import string\n",
    "\n",
    "stop_words = set(stopwords.words('english'))\n",
    "punct_set = set(string.punctuation)\n",
    "filtered_tokens = [w for w in jh_tokens\n",
    "                    if not w.lower() in stop_words and \n",
    "                     not punct_set.issuperset(set(w))]\n"
   ]
  },
  {
   "cell_type": "code",
   "execution_count": 7,
   "metadata": {},
   "outputs": [
    {
     "name": "stdout",
     "output_type": "stream",
     "text": [
      "['User', 'Location', 'Date', 'Created', 'Number', 'Likes', 'Source', 'Tweet', 'Tweet', '【Rodrigo', 'Dos', 'Santos', 'ⓟ', '🐷', '🏁】', 'São', 'Paulo', 'Brasil', '🇧🇷', ',2022-12-05', '20:57:57+00:00,0', 'Twitter', 'Android', 'JPN', '1', '1', 'HRV', 'JPN', '⚽', 'D.Maeda', \"43'\", 'HRV', '⚽', 'I.', 'Perisic', \"55'\", 'Pênaltis', 'JPN', '1', '3', 'HRV', 'Quartas', 'de', 'final', '09/12/2022', 'HRV', 'BRA', 'CopaDoMundoFIFA', 'FifaWorldCup', 'Qatar2022', 'みに丸', '神たぬ', '-BE', 'KOBE-', '神戸市/アストルティア/宿毛湾泊地,2022-12-05', '20:57:44+00:00,0', 'TweetDeck', 'RT', 'J_League', 'PK戦の結果ベスト８届かず。', 'JPN', '1-1', 'HRV', '（PK1-3）', 'SAMURAIBLUE', 'サッカー日本代表', 'FIFAWorldCup', 'Qatar2022', 'https', '//t.co/kCPDXS1n5d', 'めぐそん🌈', '㊗️ミュージカル「RENT」出演決定🎉', ',2022-12-05', '20:57:42+00:00,0', 'Twitter', 'iPhone', 'RT', 'FIFAWorldCup', 'PASALIC', 'SCORES', 'JPN', '❌❌✅❌', 'HRV', '✅✅❌✅', 'El', 'Analista', '🔎⚽', 'Cuba,2022-12-05', '20:57:38+00:00,1', 'Twitter', 'Android', 'Resultados', 'de', 'hoy', 'en', 'los', '8vos', 'de', 'Final', 'de', 'Qatar2022', 'PD', 'HRV', 'venció', 'en', 'penales', 'JPN', 'https', '//t.co/ywu9yz5Pue', 'Inspektormaska🎭', 'Osijek,2022-12-05', '20:57:30+00:00,0', 'Twitter', 'Android', 'RT', 'Football_Scot', 'Josip', 'Juranovic', 'consoles', 'heartbroken', 'Celtic', 'teammate', 'Japan', 'goal', 'hero', 'Daizen', 'Maeda', 'Croatia', 'progress', 'FIFAWo…', '1-3-5-2', 'Ro16だけ公開アカウントに', '栄光揃え', 'PlayDMF,2022-12-05', '20:57:20+00:00,0', 'Twitter', 'Web', 'App', '【Round', '16】', 'A1', 'NED', '3-1', 'B2', 'USA', 'C1', 'ARG', '2-1', 'D2', 'AUS', '＝＝＝', 'E1', 'JPN', '1-1', 'F2', 'HRV', 'PK：1-3', 'G1', 'BRA', '4-1', 'H2', 'KOR', '＝＝＝', 'B1', 'ENG', '3-0', 'A2', 'SEN', 'D1', 'FRA', '3-1', 'C2', 'POL', '＝＝＝', 'F1', 'MAR', 'vs', 'E2', 'ESP', 'H1', 'POR', 'vs', 'G2', 'SUI', 'FIFAWorldCup', 'Qatar2022', 'Ruben', 'Romano', ',2022-12-05', '20:57:13+00:00,0', 'Twitter', 'Web', 'App', 'RT', 'DSports', '¡¡Gooool', 'de', 'Croacia', '⚽⚽', 'Perisic', 'con', 'un', 'cabezazo', 'notable', 'empata', 'el', 'marcador', 'ante', 'Japón', '💥', '⏱️55', 'JPN', '1-1', 'HRV', 'Disfrutas', 'Cat…', 'ODYSSEY_DaSH', '🌏🚀🛸🌑🦈⚡️👑🦖💎P.P.子🦋🥬🧡💙', 'Thailand,2022-12-05', '20:57:10+00:00,0', 'Twitter', 'iPad', 'RT', 'beINSPORTSUSA', 'RESPECT', 'FIFAWorldCup', 'Qatar2022', 'JPN', 'HRV', 'https', '//t.co/Im601NMntL', 'Fer', 'Gomez', ',2022-12-05', '20:57:10+00:00,0', 'Twitter', 'Android', 'Resultados', 'del', 'día', 'para', 'los', 'partidos', 'de', 'octavos', 'de', 'final', '⚽🏆', '🇯🇵', 'Japón', '1', '1-1', '3', '🇭🇷', 'Croacia', '🇧🇷', 'Brasil', '4-1', '🇰🇷', 'Corea', 'del', 'Sur', 'FIFAWorldcup', 'Qatar2022', 'QatarWorldCup2022', 'Qatar', 'JPN', 'HRV', 'BRA', 'KOR', 'https', '//t.co/tSad5DK73B', 'Rodrigo', 'Goyeneche', '🚂🏆', 'Ciudad', 'de', 'México,2022-12-05', '20:57:05+00:00,1', 'Twitter', 'Web', 'App', 'JPN', '1', '1', '3', '1', 'HRV', 'Qatar2022', 'FIFAWorldCup', 'Japón', 'dejó', 'escapar', 'la', 'oportunidad', 'de', 'seguir', 'haciendo', 'historia', 'cayó', 'en', 'la', 'tanda', 'de', 'penaltis', 'ante', 'el', 'subcampeón', 'del', 'mundo', 'BRA', '4-1', 'KOR', 'Brasil', 'resolvió', 'su', 'clasificación', 'Cuartos', 'en', '36', 'minutos', 'Asia', 'se', 'despide', 'del', 'Mundial', 'https', '//t.co/smqKsvRJvP', 'みに丸', '神たぬ', '-BE', 'KOBE-', '神戸市/アストルティア/宿毛湾泊地,2022-12-05', '20:57:03+00:00,0', 'TweetDeck', 'RT', 'J_League', '前田大然', '選手のゴールで日本が先制', '1-0で後半戦へ折り返す🇯🇵', 'JPN', '1-0', 'HRV', 'SAMURAIBLUE', 'サッカー日本代表', 'FIFAWorldCup', 'Qatar2022', 'https', '//t.co/jmaJkK9n…', 'みに丸', '神たぬ', '-BE', 'KOBE-', '神戸市/アストルティア/宿毛湾泊地,2022-12-05', '20:57:00+00:00,0', 'TweetDeck', 'RT', 'J_League', '前田大然', 'が決めた！！！！！！', '日本が先制点を決める！！！！', 'JPN', '1-0', 'HRV', 'SAMURAIBLUE', 'サッカー日本代表', 'FIFAWorldCup', 'Qatar2022', 'https', '//t.co/Mpdu5hRNZg', 'Ingrid', 'Nieto', ',2022-12-05', '20:56:57+00:00,0', 'Twitter', 'Android', 'RT', 'roadto2022es', '¡', 'HRV', 'se', 'metió', 'los', '4tos', 'de', 'final', 'por', 'penales', 'Tras', '120', 'el', 'vigente', 'subcampeón', 'cerró', 'su', 'clasificación', 'la', 'siguiente', 'ron…', 'SC', 'Parâmetro', 'Brasil', '–', 'ele/dele/-o', ',2022-12-05', '20:56:38+00:00,2', 'Twitter', 'Web', 'App', '🇶🇦', 'Qatar2022', 'Oitavas', 'de', 'Final', '03/12', '►', 'NED', '3x1', 'USA', '►', 'ARG', '2x1', 'AUS', '04/12', '►', 'FRA', '3x1', 'POL', '►', 'ENG', '3x0', 'SEN', '05/12', '►', 'JPN', '1x1', '1x3p', 'HRV', '►', 'BRA', '4x1', 'KOR', '06/12', '►', 'MAR', 'x', 'ESP', '–', '12h', '►', 'POR', 'x', 'SUI', '–', '16h', 'FIFAWorldCup', 'https', '//t.co/GoVaKtnjh9', 'Fran', 'Herrero', '⚽🏀🏈🏉🏆', 'Entre', 'Barcelona', 'Malgrat', 'CAT', ',2022-12-05', '20:56:37+00:00,0', 'Twitter', 'Android', 'FIFAWorldCup', 'Qatar2022', 'Marcador', 'actualitzat', 'dels', 'vuitens', 'de', 'final', 'NED', '3-1', 'USA', 'ARG', '2-1', 'AUS', 'JPN', '1', '1', '3', '1', 'HRV', 'Brasil', '4-1', 'KOR', 'ENG', '3-0', 'SEN', 'FRA', '3-1', 'POL', 'MAR', 'ESP', 'POR', 'SUI', '𝐉𝐞𝐚𝐧𝐜𝐚𝐫𝐥𝐨𝐬', '🇵🇪,2022-12-05', '20:56:16+00:00,1', 'Twitter', 'Web', 'App', '🏆', '𝟖𝐯𝐨𝐬', '𝐝𝐞', '𝐟𝐢𝐧𝐚𝐥', '🔥', 'JPN', '𝟭-𝟭', 'HRV', '☑', 'ᴘᴇɴᴀʟᴇꜱ', 'BRA', '𝟰-𝟭', 'KOR', '❌🇯🇵🔚', '❌🇰🇷🔚', '✅', '🇭🇷🆚🇧🇷', '🔜', '🔥', '𝟒𝐭𝐨𝐬', '𝐝𝐞', '𝐟𝐢𝐧𝐚𝐥', '🏆', 'FIFAWorldCup', 'Qatar2022', 'Lisbarqui', 'Hernández', 'San', 'Cristóbal', 'Venezuela', ',2022-12-05', '20:56:07+00:00,0', 'Twitter', 'Android', 'Hrv', 'Jpn', 'duró', '120', 'penales', 'Bra', 'Kor', 'duró', '10', 'Hrv', 'Bra', 'en', 'los', '4tos', 'de', 'Final', 'de', 'la', 'FIFAWorldCup', 'Qatar2022', 'Vanessa', 'Salazar', 'De', 'Venezuela,2022-12-05', '20:55:56+00:00,0', 'Twitter', 'Android', 'RT', 'EFEdeportes', '🔝', 'El', 'orgullo', 'de', 'Japón', 'miran', 'con', 'esperanza', 'al', 'futuro', 'tras', 'un', 'Mundial', 'histórico', 'El', 'análisis', 'de', 'su', 'entrenador', '⤵️', 'JPN', 'H…', 'Álex', ',2022-12-05', '20:55:41+00:00,0', 'Twitter', 'Android', 'FINAL', 'Lo', 'gana', 'BRA', 'que', 'junto', 'HRV', 'consiguen', 'el', 'pase', 'cuartos', 'se', 'enfrentarán', 'entre', 'sí', 'Quedaron', 'fuera', 'JPN', 'KOR', 'Qatar2022', 'Mañana', 'estaremos', 'fire', 'con', 'Españita', 'ESP', 'Tommy', 'Milanello', 'Merano,2022-12-05', '20:55:34+00:00,1', 'Twitter', 'iPhone', '🏆', 'Qatar2022', '🔥', 'KO', 'stage', '📌', 'R16', 'NED', 'v', 'USA', '3-1', 'ARG', 'v', 'AUS', '2-1', 'FRA', 'v', 'POL', '3-1', 'ENG', 'v', 'SEN', '3-0', 'JPN', 'v', 'HRV', '1-1', '1-3', 'BRA', 'v', 'KOR', '4-1', '⚫️', 'MAR', 'v', 'ESP', '⚪️', 'POR', 'v', 'SUI', '📌', 'QF', '1️⃣', 'HRV', 'v', 'BRA', '2️⃣', 'NED', 'v', 'ARG', '3️⃣', '⚫️v⚪️', '4️⃣', 'ENG', 'v', 'FRA', '📌', 'SF', '🅰️', '1️⃣v2️⃣', '🅱️', '3️⃣v4️⃣', '📌', 'FINAL', '⚽️', '🅰️v🅱️', 'Dane', 'Whybrow', 'Melbourne', 'Australia', ',2022-12-05', '20:55:22+00:00,0', 'Twitter', 'iPhone', 'RT', 'J_League', 'PK戦の結果ベスト８届かず。', 'JPN', '1-1', 'HRV', '（PK1-3）', 'SAMURAIBLUE', 'サッカー日本代表', 'FIFAWorldCup', 'Qatar2022', 'https', '//t.co/kCPDXS1n5d', 'ECHO', 'Liberty', 'Hills', ',2022-12-05', '20:55:11+00:00,0', 'Twitter', 'iPhone', 'RT', 'FIFAWorldCup', 'PASALIC', 'SCORES', 'JPN', '❌❌✅❌', 'HRV', '✅✅❌✅', '七色仮面', ',2022-12-05', '20:55:00+00:00,0', 'Twitter', 'Android', 'RT', 'J_League', '前田大然', 'が決めた！！！！！！', '日本が先制点を決める！！！！', 'JPN', '1-0', 'HRV', 'SAMURAIBLUE', 'サッカー日本代表', 'FIFAWorldCup', 'Qatar2022', 'https', '//t.co/Mpdu5hRNZg', 'David', 'Iglesias', ',2022-12-05', '20:54:34+00:00,0', 'Twitter', 'Android', 'RT', 'EFEdeportes', '🔝', 'El', 'orgullo', 'de', 'Japón', 'miran', 'con', 'esperanza', 'al', 'futuro', 'tras', 'un', 'Mundial', 'histórico', 'El', 'análisis', 'de', 'su', 'entrenador', '⤵️', 'JPN', 'H…', 'Anibal', 'Rengo', 'Chile', ',2022-12-05', '20:53:13+00:00,0', 'Twitter', 'Android', 'RT', 'pelotazo', 'Es', 'lo', 'lindo', 'del', 'fútbol', 'aceptar', 'la', 'derrota', 'e', 'incluso', 'sacarse', 'una', 'foto', 'con', 'una', 'hincha', 'del', 'rival', 'que', 'te', 'ganó', 'JPN', 'HRV', 'Qatar2…', 'Slashaz', 'Nigeria,2022-12-05', '20:53:13+00:00,0', 'Twitter', 'Android', 'RT', 'FIVEUK', '⏰', 'Final', 'Score', '⏰', '🇯🇵', 'Japan', '1-1', 'Croatia', '🇭🇷', 'Croatia', 'win', '3-1', 'Pens', '🇭🇷', 'Croatia', 'play', 'winners', 'Brazil', 'v', 'South', 'Korea…', 'Iñaki', 'María', 'Avial', '⚽', 'Comunidad', 'de', 'Madrid', 'España', ',2022-12-05', '20:52:12+00:00,0', 'Twitter', 'Web', 'App', 'Mi', 'crónica', 'análisis', 'del', 'JPN', '1-1', 'HRV', 'https', '//t.co/PYlDrXA39a', 'Marko', 'smallville,2022-12-05', '20:50:20+00:00,0', 'Twitter', 'Android', 'RT', 'beINSPORTSUSA', 'RESPECT', 'FIFAWorldCup', 'Qatar2022', 'JPN', 'HRV', 'https', '//t.co/Im601NMntL', 'Luis', 'Díaz', 'Spain,2022-12-05', '20:50:05+00:00,0', 'Twitter', 'Android', 'RT', '2010MisterChip', 'JPN', '1-1', 'HRV', '55', 'JPNHRV', 'FIFAWorldCup', 'Qatar2022', 'Perisic', 'jugador', 'extraordinario', 'e', 'infravalorado', 'es', 'el', 'TERCER', 'ju…', 'Javier', 'Lopez', ',2022-12-05', '20:50:02+00:00,0', 'Twitter', 'Android', 'RT', 'Gol', '¡Gol', 'de', 'Vlasic', 'JPN', '❌', 'HRV', '✅', 'GolMundial', 'miguelreyesperez', 'Albacete,2022-12-05', '20:49:41+00:00,0', 'Twitter', 'Android', 'RT', '2010MisterChip', 'TANDAS', 'DE', 'PENALTIS', 'Croacia', 'HRV', '2', 'ganadas', 'ambas', 'en', 'la', 'Copa', 'del', 'Mundo', 'de', '2018', 'contra', 'Dinamarca', 'Rusia', '1', 'perdida', '…', 'EFE', 'Centroamérica', 'Panamá,2022-12-05', '20:49:38+00:00,0', 'Twitter', 'Web', 'App', 'RT', 'EFEdeportes', '👏', 'Habla', 'el', 'héroe', 'de', 'Croacia', 'así', 'lo', 'ha', 'vivido', 'él', '⤵️', 'JPN', 'HRV', 'Qatar2022', 'JPNHRV', 'https', '//t.co/tonfzX8qfH', 'miguelreyesperez', 'Albacete,2022-12-05', '20:49:38+00:00,0', 'Twitter', 'Android', 'RT', '2010MisterChip', 'JPN', '1-1', 'HRV', 'FT', 'JPNHRV', 'FIFAWorldCup', 'Qatar2022', 'En', '7', 'de', 'los', 'últimos', '8', 'partidos', 'de', 'eliminación', 'directa', 'de', 'Croacia…', 'miguelreyesperez', 'Albacete,2022-12-05', '20:49:32+00:00,0', 'Twitter', 'Android', 'RT', '2010MisterChip', 'JPN', '1-1', 'HRV', '70', 'JPNHRV', 'FIFAWorldCup', 'Qatar2022', 'Entra', 'Budimir', 'por', 'PRIMERA', 'VEZ', 'Osasuna', 'tiene', '2', 'jugadores', 'con', 'm…', 'miguelreyesperez', 'Albacete,2022-12-05', '20:49:17+00:00,0', 'Twitter', 'Android', 'RT', '2010MisterChip', 'JPN', '1-1', 'HRV', '55', 'JPNHRV', 'FIFAWorldCup', 'Qatar2022', 'Perisic', 'jugador', 'extraordinario', 'e', 'infravalorado', 'es', 'el', 'TERCER', 'ju…', 'miguelreyesperez', 'Albacete,2022-12-05', '20:49:13+00:00,0', 'Twitter', 'Android', 'RT', '2010MisterChip', 'JPN', '1-0', 'HRV', 'HT', 'JPNHRV', 'FIFAWorldCup', 'Qatar2022', 'Jugadores', 'de', 'la', 'liga', 'escocesa', 'que', 'marcaron', 'en', 'un', 'partido', 'de', 'elimi…', 'Merenquista', '87', '🤍💜-🦁', 'Venezuela,2022-12-05', '20:49:12+00:00,0', 'Twitter', 'Android', 'KOR', 'JPN', 'fueron', 'sorpresas', 'Brasil', 'HRV', 'cumplen', 'Mar', 'va', 'ser', 'la', 'sorpresa', 'de', 'Qatar2022', 'si', 'Esp', 'se', 'pone', 'las', 'pilas', 'mañana', 'FIFAWorldCup', 'miguelreyesperez', 'Albacete,2022-12-05', '20:49:11+00:00,0', 'Twitter', 'Android', 'RT', '2010MisterChip', 'JPN', '1-0', 'HRV', 'Maeda', '43', 'JPNHRV', 'FIFAWorldCup', 'Qatar2022', 'Asia', 'se', 'merece', 'POR', 'FIN', 'otra', 'selección', 'que', 'llegue', 'cuartos…', 'Carlos', 'Villamayor', ',2022-12-05', '20:48:09+00:00,0', 'Twitter', 'Android', 'RT', '2010MisterChip', 'TANDAS', 'DE', 'PENALTIS', 'Croacia', 'HRV', '2', 'ganadas', 'ambas', 'en', 'la', 'Copa', 'del', 'Mundo', 'de', '2018', 'contra', 'Dinamarca', 'Rusia', '1', 'perdida', '…', 'Ricardo', 'Esteban', 'Rovira', 'Flores', 'Mazatlán', 'Sinaloa', ',2022-12-05', '20:48:05+00:00,0', 'Twitter', 'Android', 'RT', 'FIFAWorldCup', 'PASALIC', 'SCORES', 'JPN', '❌❌✅❌', 'HRV', '✅✅❌✅', 'Ricardo', 'Esteban', 'Rovira', 'Flores', 'Mazatlán', 'Sinaloa', ',2022-12-05', '20:47:52+00:00,0', 'Twitter', 'Android', 'RT', 'FIFAWorldCup', 'Livakovic', 'saves', 'third', 'time', 'JPN', '❌❌✅❌', 'HRV', '✅✅❌', 'Ricardo', 'Esteban', 'Rovira', 'Flores', 'Mazatlán', 'Sinaloa', ',2022-12-05', '20:47:49+00:00,0', 'Twitter', 'Android', 'RT', 'FIFAWorldCup', 'Livaja', 'hits', 'post', 'JPN', '❌❌✅', 'HRV', '✅✅❌', 'Luis', 'Díaz', 'Spain,2022-12-05', '20:47:49+00:00,0', 'Twitter', 'Android', 'RT', '2010MisterChip', 'JPN', '1-1', 'HRV', 'FT', 'JPNHRV', 'FIFAWorldCup', 'Qatar2022', 'En', '7', 'de', 'los', 'últimos', '8', 'partidos', 'de', 'eliminación', 'directa', 'de', 'Croacia…', 'AMNA', 'Sport', 'Ελλάς,2022-12-05', '20:47:47+00:00,0', 'Twitter', 'Web', 'App', 'Λιβάκοβιτς', 'ο', '3ος', 'γκολκίπερ', 'σε', 'Μουντιάλ', 'με', 'τρεις', 'επεμβάσεις', 'σε', 'διαδικασία', 'πέναλτι', 'https', '//t.co/yeKas1VURe', 'FIFAWorldCup', 'Qatar2022', 'JPN', 'HRV', 'JPNCRO', 'https', '//t.co/64GHvWRGlO', 'Ricardo', 'Esteban', 'Rovira', 'Flores', 'Mazatlán', 'Sinaloa', ',2022-12-05', '20:47:47+00:00,0', 'Twitter', 'Android', 'RT', 'FIFAWorldCup', 'Asano', 'scores', 'Japan', 'JPN', '❌❌✅', 'HRV', '✅✅', 'Fernando', 'de', 'la', 'Monterrey', 'Nuevo', 'León', ',2022-12-05', '20:47:46+00:00,0', 'Twitter', 'Android', 'RT', 'pelotazo', 'Es', 'lo', 'lindo', 'del', 'fútbol', 'aceptar', 'la', 'derrota', 'e', 'incluso', 'sacarse', 'una', 'foto', 'con', 'una', 'hincha', 'del', 'rival', 'que', 'te', 'ganó', 'JPN', 'HRV', 'Qatar2…', 'Ricardo', 'Esteban', 'Rovira', 'Flores', 'Mazatlán', 'Sinaloa', ',2022-12-05', '20:47:45+00:00,0', 'Twitter', 'Android', 'RT', 'FIFAWorldCup', 'Brozovic', 'makes', 'mistakes', 'JPN', '❌❌', 'HRV', '✅✅', 'Ricardo', 'Esteban', 'Rovira', 'Flores', 'Mazatlán', 'Sinaloa', ',2022-12-05', '20:47:43+00:00,0', 'Twitter', 'Android', 'RT', 'FIFAWorldCup', 'Livakovic', 'saves', 'JPN', '❌❌', 'HRV', '✅', 'Ricardo', 'Esteban', 'Rovira', 'Flores', 'Mazatlán', 'Sinaloa', ',2022-12-05', '20:47:41+00:00,0', 'Twitter', 'Android', 'RT', 'FIFAWorldCup', 'Vlasic', 'scores', 'Croatia', 'JPN', '❌', 'HRV', '✅', 'Ricardo', 'Esteban', 'Rovira', 'Flores', 'Mazatlán', 'Sinaloa', ',2022-12-05', '20:47:40+00:00,0', 'Twitter', 'Android', 'RT', 'FIFAWorldCup', 'Minamino', 'misses', 'first', 'penalty', 'JPN', '❌', 'HRV', 'Rubén', 'Herrera', ',2022-12-05', '20:46:52+00:00,0', 'Twitter', 'Android', 'RT', '2010MisterChip', 'JPN', '1-1', 'HRV', 'FT', 'JPNHRV', 'FIFAWorldCup', 'Qatar2022', 'En', '7', 'de', 'los', 'últimos', '8', 'partidos', 'de', 'eliminación', 'directa', 'de', 'Croacia…', '瀬名貴代', 'SENA-KIYO', '博多,2022-12-05', '20:46:52+00:00,0', 'Twitter', 'iPhone', 'RT', 'J_League', 'PK戦の結果ベスト８届かず。', 'JPN', '1-1', 'HRV', '（PK1-3）', 'SAMURAIBLUE', 'サッカー日本代表', 'FIFAWorldCup', 'Qatar2022', 'https', '//t.co/kCPDXS1n5d', 'Alejandra', 'Benitez', 'Formosa', 'Argentina,2022-12-05', '20:46:29+00:00,0', 'Twitter', 'iPhone', 'RT', 'EFEdeportes', '🔝', 'El', 'orgullo', 'de', 'Japón', 'miran', 'con', 'esperanza', 'al', 'futuro', 'tras', 'un', 'Mundial', 'histórico', 'El', 'análisis', 'de', 'su', 'entrenador', '⤵️', 'JPN', 'H…', 'Maria', 'Katina', 'Lamosa', 'En', 'un', 'hermoso', 'cruel', 'mundo.,2022-12-05', '20:45:43+00:00,0', 'Twitter', 'Android', 'RT', 'EFEdeportes', '🔝', 'El', 'orgullo', 'de', 'Japón', 'miran', 'con', 'esperanza', 'al', 'futuro', 'tras', 'un', 'Mundial', 'histórico', 'El', 'análisis', 'de', 'su', 'entrenador', '⤵️', 'JPN', 'H…', 'アニ菜', '日本,2022-12-05', '20:45:32+00:00,0', 'Twitter', 'Android', 'RT', 'J_League', 'PK戦の結果ベスト８届かず。', 'JPN', '1-1', 'HRV', '（PK1-3）', 'SAMURAIBLUE', 'サッカー日本代表', 'FIFAWorldCup', 'Qatar2022', 'https', '//t.co/kCPDXS1n5d', 'Lisandro', 'Rossi', 'Salto', 'Uruguay', ',2022-12-05', '20:44:34+00:00,0', 'Twitter', 'iPhone', 'RT', 'roadto2022es', '¡', 'HRV', 'se', 'metió', 'los', '4tos', 'de', 'final', 'por', 'penales', 'Tras', '120', 'el', 'vigente', 'subcampeón', 'cerró', 'su', 'clasificación', 'la', 'siguiente', 'ron…', 'よっちん☆改', '新潟', '妙高市,2022-12-05', '20:44:28+00:00,0', 'Twitter', 'Android', 'RT', 'J_League', 'PK戦の結果ベスト８届かず。', 'JPN', '1-1', 'HRV', '（PK1-3）', 'SAMURAIBLUE', 'サッカー日本代表', 'FIFAWorldCup', 'Qatar2022', 'https', '//t.co/kCPDXS1n5d', 'Papu', 'Garcete', 'Asuncion', 'Paraguay', ',2022-12-05', '20:43:40+00:00,0', 'Twitter', 'Android', 'RT', 'marceloburgosf', '🤨¡La', 'forma', 'en', 'que', 'predice', 'la', 'TV', 'Nipona', 'el', 'JPN', 'vs.', 'HRV', '🙊🙈🐵🙉', 'Qatar2022', 'FIFAWorldCup', 'https', '//t.co/zbdOxtl7iE', 'LucasPlayYT', '☔', 'QATAR2022', '🤩⚽🌎🏆✈️🇶🇦', 'DIA', '16', 'Buenos', 'Aires', 'Argentina', ',2022-12-05', '20:43:28+00:00,1', 'Twitter', 'Android', 'LIVAKOVIC', 'EL', 'HEROE', 'CROATA', '🤯', 'Croacia', '🇭🇷', 'elimino', 'Japon', '🇯🇵', 'en', 'los', 'penales', 'tras', 'empatar', '1-1', 'con', 'goles', 'de', 'Maeda', 'para', 'los', 'nipones', 'Perisic', 'para', 'los', 'subcampeones', 'del', 'mundo', 'Su', 'proximo', 'rival', 'de', '4tos', 'seria', 'Brasil', '🇧🇷', '😲😲😲⚽⚽⚽🌎🌎🌎🏆🏆🏆', 'FIFAWorldCup', 'JPN', 'HRV', 'https', '//t.co/3ORU4Kp6j4', 'C҉', 'H҉', 'A҉', 'I҉·', 'チャイ', 'ℝℕ', 'Tokorozawa-shi', 'Saitama', ',2022-12-05', '20:43:17+00:00,0', 'Twitter', 'iPad', 'RT', 'InfogolApp', 'GER', '1-2', 'JPN', 'xG', '3.81-2.06', 'JPN', '0-1', 'CRC', 'xG', '1.05-0.13', 'JPN', '2-1', 'ESP', 'xG', '0.95-1.20', 'JPN', '1-1', 'HRV', 'xG', '1.92-1.39', '1…', 'monrow', 'fut', '⚽', 'Veracruz', 'Veracruz', 'de', 'Ignacio', ',2022-12-05', '20:43:09+00:00,0', 'Twitter', 'Android', 'RT', 'fifaworldcup_es', '¡CROACIA', 'CUARTOS', 'DE', 'FINAL', 'HRV', '⚽️', '⚽️', '❌⚽️', 'JPN', '❌', '❌', '⚽️', '❌', 'Bruno_JoJo', '🐶😇', ',2022-12-05', '20:42:45+00:00,0', 'Twitter', 'Android', 'RT', 'beINSPORTSUSA', '👉', 'two', 'faces', 'BEAUTIFUL', 'GAME', 'FIFAWorldCup', 'Qatar2022', 'JPN', 'HRV', 'https', '//t.co/PV4CYlVWtj', 'monrow', 'fut', '⚽', 'Veracruz', 'Veracruz', 'de', 'Ignacio', ',2022-12-05', '20:41:50+00:00,0', 'Twitter', 'Android', 'RT', 'FT_Total', 'Final', 'Qatar2022', 'Japón', 'JPN', '1-1', 'Croacia', 'HRV', 'Maeda', 'Perisic', 'Penaltis', '1-3', 'Croacia', 'CLASIFICADA', '✅', 'para', 'los', '1/4', 'de', 'final', 'A…', 'Eduardø', 'Espinøza', 'Nicaragua', ',2022-12-05', '20:41:46+00:00,0', 'Twitter', 'Android', 'RT', '2010MisterChip', 'TANDAS', 'DE', 'PENALTIS', 'Croacia', 'HRV', '2', 'ganadas', 'ambas', 'en', 'la', 'Copa', 'del', 'Mundo', 'de', '2018', 'contra', 'Dinamarca', 'Rusia', '1', 'perdida', '…', 'Eduardø', 'Espinøza', 'Nicaragua', ',2022-12-05', '20:41:38+00:00,0', 'Twitter', 'Android', 'RT', '2010MisterChip', 'JPN', '1-1', 'HRV', 'FT', 'JPNHRV', 'FIFAWorldCup', 'Qatar2022', 'En', '7', 'de', 'los', 'últimos', '8', 'partidos', 'de', 'eliminación', 'directa', 'de', 'Croacia…', 'Dana', 'Abramovic', ',2022-12-05', '20:41:36+00:00,0', 'Twitter', 'Web', 'App', 'RT', 'beINSPORTSUSA', 'RESPECT', 'FIFAWorldCup', 'Qatar2022', 'JPN', 'HRV', 'https', '//t.co/Im601NMntL', 'monrow', 'fut', '⚽', 'Veracruz', 'Veracruz', 'de', 'Ignacio', ',2022-12-05', '20:41:34+00:00,0', 'Twitter', 'Android', 'RT', 'FT_Total', 'Asano', 'para', 'Japón', 'GOL', 'Livaja', 'para', 'Croacia', 'al', 'PALO', 'Penaltis', 'JPN', '1-2', 'HRV', 'Qatar2022', 'monrow', 'fut', '⚽', 'Veracruz', 'Veracruz', 'de', 'Ignacio', ',2022-12-05', '20:41:29+00:00,0', 'Twitter', 'Android', 'RT', 'FT_Total', 'Mitoma', 'para', 'Japón', 'PARA', 'Livakovic', 'Brozovic', 'para', 'Croacia', 'GOL', 'Penaltis', 'JPN', '0-2', 'HRV', 'Qatar2022', 'monrow', 'fut', '⚽', 'Veracruz', 'Veracruz', 'de', 'Ignacio', ',2022-12-05', '20:41:26+00:00,0', 'Twitter', 'Android', 'RT', 'FT_Total', 'Minamino', 'para', 'Japón', 'PARA', 'Livakovic', 'Vlasic', 'para', 'Croacia', 'GOL', 'Penaltis', 'JPN', '0-1', 'HRV', 'monrow', 'fut', '⚽', 'Veracruz', 'Veracruz', 'de', 'Ignacio', ',2022-12-05', '20:41:19+00:00,0', 'Twitter', 'Android', 'RT', 'FT_Total', 'los', 'PENALTIS', 'el', 'Japón', 'JPN', '1-1', 'Croacia', 'HRV', 'Maeda', 'Perisic', 'De', 'aquí', 'va', 'salir', 'el', 'rival', 'de', 'Brasil', 'Korea', 'en', 'los', '1/4', 'fina…', 'monrow', 'fut', '⚽', 'Veracruz', 'Veracruz', 'de', 'Ignacio', ',2022-12-05', '20:41:11+00:00,0', 'Twitter', 'Android', 'RT', 'FT_Total', 'Livaja', 'por', 'Budimir', 'que', 'salió', 'en', 'la', '2ªpte', 'además', 'de', 'Orsic', 'por', 'Perisic', 'cambios', 'de', 'Dalic', 'en', 'Croacia', 'Min110', 'Japón', 'JPN', '1-1', 'Cr…', 'monrow', 'fut', '⚽', 'Veracruz', 'Veracruz', 'de', 'Ignacio', ',2022-12-05', '20:41:07+00:00,0', 'Twitter', 'Android', 'RT', 'FT_Total', 'Vaya', 'ovación', 'Luka', 'Modric', 'en', 'Al', 'Wakrah', 'Entra', 'Majer', 'también', 'entra', 'Vlasic', 'por', 'Kovacic', 'Doble', 'cambio', 'de', 'Dalic', 'Min99', 'Japón…', 'monrow', 'fut', '⚽', 'Veracruz', 'Veracruz', 'de', 'Ignacio', ',2022-12-05', '20:41:02+00:00,0', 'Twitter', 'Android', 'RT', 'FT_Total', 'la', 'PRÓRROGA', 'el', 'Japón', 'JPN', '1-1', 'Croacia', 'HRV', 'Maeda', 'Perisic', 'Primera', 'prórroga', 'de', 'este', 'Qatar2022', 'monrow', 'fut', '⚽', 'Veracruz', 'Veracruz', 'de', 'Ignacio', ',2022-12-05', '20:40:59+00:00,0', 'Twitter', 'Android', 'RT', 'FT_Total', 'Tomiyasu', 'porque', 'tiene', 'ese', 'gen', 'de', 'lateral', 'pero', 'si', 'llega', 'ser', 'Doan', 'algún', 'otro', 'atacante', 'eso', 'era', 'un', 'remate', 'puerta', 'un…', 'monrow', 'fut', '⚽', 'Veracruz', 'Veracruz', 'de', 'Ignacio', ',2022-12-05', '20:40:56+00:00,0', 'Twitter', 'Android', 'RT', 'FT_Total', 'Budimir', 'por', 'Petkovic', 'en', 'Croacia', 'Maeda', 'Nagatomo', 'por', 'Asano', 'Mitoma', 'en', 'Japón', 'Min64', 'JPN', '1-1', 'HRV', 'Qatar2022', 'monrow', 'fut', '⚽', 'Veracruz', 'Veracruz', 'de', 'Ignacio', ',2022-12-05', '20:40:49+00:00,0', 'Twitter', 'Android', 'RT', 'FT_Total', 'GOL', 'de', 'Perisic', 'para', 'Croacia', 'De', 'cabeza', 'buen', 'remate', 'centro', 'de', 'Juranovic', 'La', 'pone', 'lejos', 'de', 'Gonda', 'Min55', 'Japón', 'JPN', '1-1', 'Croac…', 'monrow', 'fut', '⚽', 'Veracruz', 'Veracruz', 'de', 'Ignacio', ',2022-12-05', '20:40:47+00:00,0', 'Twitter', 'Android', 'RT', 'FT_Total', 'Sin', 'cambios', 'en', 'el', 'segundo', 'tiempo', 'Japón', 'JPN', '1-0', 'Croacia', 'HRV', 'Qatar2022', 'Minuto', '90', '⏱️', ',2022-12-05', '20:40:47+00:00,0', 'Twitter', 'Android', 'RT', 'fifaworldcup_es', '¡CROACIA', 'CUARTOS', 'DE', 'FINAL', 'HRV', '⚽️', '⚽️', '❌⚽️', 'JPN', '❌', '❌', '⚽️', '❌', 'Eduardø', 'Espinøza', 'Nicaragua', ',2022-12-05', '20:40:43+00:00,0', 'Twitter', 'Android', 'RT', '2010MisterChip', 'JPN', '1-1', 'HRV', '55', 'JPNHRV', 'FIFAWorldCup', 'Qatar2022', 'Perisic', 'jugador', 'extraordinario', 'e', 'infravalorado', 'es', 'el', 'TERCER', 'ju…', 'monrow', 'fut', '⚽', 'Veracruz', 'Veracruz', 'de', 'Ignacio', ',2022-12-05', '20:40:31+00:00,0', 'Twitter', 'Android', 'RT', 'FT_Total', 'Descanso', 'Qatar2022', 'Japón', 'JPN', '1-0', 'Croacia', 'HRV', 'Maeda', 'Ventaja', 'para', 'los', 'de', 'Moriyasu', 'en', 'Al', 'Wakrah', 'eso', 'que', 'los', 'croatas', 'tu…', 'monrow', 'fut', '⚽', 'Veracruz', 'Veracruz', 'de', 'Ignacio', ',2022-12-05', '20:40:16+00:00,0', 'Twitter', 'Android', 'RT', 'FT_Total', 'GOL', 'de', 'Maeda', 'para', 'Japón', 'Remate', 'con', 'la', 'zurda', 'aprovechó', 'el', 'rechace', 'en', 'área', 'pequeña', 'MIn43', 'Japón', 'JPN', '1-0', 'Croacia', 'HRV', 'Qatar…', 'monrow', 'fut', '⚽', 'Veracruz', 'Veracruz', 'de', 'Ignacio', ',2022-12-05', '20:40:14+00:00,0', 'Twitter', 'Android', 'RT', 'FT_Total', 'Qué', 'jugada', 'de', 'Japón', 'Cómo', 'lo', 'han', 'peleado', 'solo', 'por', 'eso', 'merecieron', 'el', 'gol', 'Varias', 'combinaciones', 'de', 'pases', 'pero', 'luego', 'el', 'remat…', 'monrow', 'fut', '⚽', 'Veracruz', 'Veracruz', 'de', 'Ignacio', ',2022-12-05', '20:40:02+00:00,0', 'Twitter', 'Android', 'RT', 'FT_Total', 'Primeros', 'cinco', 'minutos', 'en', 'Al', 'Wakrah', 'Japón', 'JPN', '0-0', 'Croacia', 'HRV', 'Qatar2022', 'Di_Young_Legend', 'Jamaica,2022-12-05', '20:39:58+00:00,0', 'Twitter', 'Android', 'RT', 'FIFAWorldCup', 'PASALIC', 'SCORES', 'JPN', '❌❌✅❌', 'HRV', '✅✅❌✅', 'Nagamori', 'サンプロアルウィン,2022-12-05', '20:39:52+00:00,0', 'Twitter', 'Android', 'RT', 'J_League', 'PK戦の結果ベスト８届かず。', 'JPN', '1-1', 'HRV', '（PK1-3）', 'SAMURAIBLUE', 'サッカー日本代表', 'FIFAWorldCup', 'Qatar2022', 'https', '//t.co/kCPDXS1n5d', 'monrow', 'fut', '⚽', 'Veracruz', 'Veracruz', 'de', 'Ignacio', ',2022-12-05', '20:39:46+00:00,0', 'Twitter', 'Android', 'RT', 'FT_Total', 'XI', 'JAPÓN', 'JPN', 'Gonda', 'Taniguchi', 'Tomiyasu', 'Yoshida', 'Nagatomo', 'Morita', 'Endo', 'Ito', 'Kamada', 'Doan', 'Maeda', 'XI', 'CROACIA', 'HRV', 'Livako…', 'Vicente', 'De', 'Vita', 'ÜT', '10.166866', '-68.008843', ',2022-12-05', '20:39:33+00:00,0', 'Twitter', 'Android', 'RT', 'EFEdeportes', '🔝', 'El', 'orgullo', 'de', 'Japón', 'miran', 'con', 'esperanza', 'al', 'futuro', 'tras', 'un', 'Mundial', 'histórico', 'El', 'análisis', 'de', 'su', 'entrenador', '⤵️', 'JPN', 'H…', 'Glorija', 'Ivkovic', 'Rakitje', 'Croatia', ',2022-12-05', '20:39:33+00:00,0', 'Twitter', 'Web', 'App', 'RT', 'beINSPORTSUSA', 'RESPECT', 'FIFAWorldCup', 'Qatar2022', 'JPN', 'HRV', 'https', '//t.co/Im601NMntL', 'Losephus', 'Pedrozo', 'San', 'Lorenzo,2022-12-05', '20:38:57+00:00,0', 'Twitter', 'Android', 'RT', 'rhdelfutbol', 'HRV', 'superó', 'JPN', 'por', 'penales', 'se', 'mete', 'en', '4tos', 'de', 'Final', 'de', 'Qatar2022', '‼️', '🇭🇷', 'Croacia', 'sigue', 'haciendo', 'historia', '6ª', 'partic…', 'El_Negron01', ',2022-12-05', '20:38:15+00:00,0', 'Twitter', 'Android', 'RT', 'UNoticias', '🔵', 'AHORA', '🇯🇵', 'Japón', '1-1', 'Croacia', '🇭🇷', 'El', 'guardameta', 'croata', 'Livaković', 'con', 'tres', 'atajadas', 'la', 'sentencia', 'de', 'Pasalić', 'meten', 'Cro…', 'El_Negron01', ',2022-12-05', '20:38:13+00:00,0', 'Twitter', 'Android', 'RT', 'UNoticias', '🔵', 'AHORA', '🇯🇵', 'Japón', '1-1', 'Croacia', '🇭🇷', 'PENALES', 'Gol', 'de', 'Vlasić', 'Brozović', 'adelantan', 'Croacia', 'JPN', '❌❌', 'HRV', '✅✅', 'Nole', ',2022-12-05', '20:38:09+00:00,0', 'Twitter', 'Android', 'RT', 'beINSPORTSUSA', 'RESPECT', 'FIFAWorldCup', 'Qatar2022', 'JPN', 'HRV', 'https', '//t.co/Im601NMntL', 'a.🎄', 'Sintra', 'Portugal', ',2022-12-05', '20:37:55+00:00,0', 'Twitter', 'Android', 'RT', 'EuroFute', '🚨', 'FINAL', 'DOS', 'PÊNALTIS', 'JPN', '1-3', 'HRV', 'LIVAKOVIC', 'PEGA', '3', 'HERÓI', 'CROATA', 'Croácia', 'está', 'nas', 'quartas', 'da', 'Copa', 'Mundo', 'https', '//t.…', 'Brendan', 'Vincent', 'Reading', 'England', ',2022-12-05', '20:37:36+00:00,0', 'Twitter', 'iPad', 'RT', 'Football_Scot', 'Josip', 'Juranovic', 'consoles', 'heartbroken', 'Celtic', 'teammate', 'Japan', 'goal', 'hero', 'Daizen', 'Maeda', 'Croatia', 'progress', 'FIFAWo…', 'MattaDaddy', ',2022-12-05', '20:36:50+00:00,0', 'Twitter', 'Android', 'RT', 'MrRayG', 'Good', 'Mutant', 'Monday', 'TwitterBlue', 'Web3', 'Let', 'WorldCup', 'games', 'continue', 'GL', 'JPN', 'HRV', 'BRA', 'KOR', 'today', 'game', 'Gold', 'MACC…', '『NY午前0時', '美術館は眠らない』配信開始！/岩渕潤子', 'TYO/SFO/NYC/LDN/FLR/VCE,2022-12-05', '20:36:48+00:00,0', 'Twitter', 'Web', 'App', 'RT', 'matsutake97', '終わった…😢', 'またPKで負けた。', 'あんなに激しく戦ったのに…最後の最後でチャンスを逃してしまった。制限時間内で攻めきれなかったのが敗因だったのかな…', '残念としか言いようがない。選手たちはつらいだろうけど…ああ悔しいなあ。', '日本代表', 'SAMU…', 'Goran', 'Andrijanić', '🇭🇷🇵🇱', 'Babice,2022-12-05', '20:36:45+00:00,0', 'Twitter', 'Web', 'App', 'RT', 'beINSPORTSUSA', 'RESPECT', 'FIFAWorldCup', 'Qatar2022', 'JPN', 'HRV', 'https', '//t.co/Im601NMntL', '🐊こゆい🦄', 'EXI党名古屋支部,2022-12-05', '20:34:55+00:00,0', 'Twitter', 'Android', 'RT', 'J_League', '前田大然', '選手のゴールで日本が先制', '1-0で後半戦へ折り返す🇯🇵', 'JPN', '1-0', 'HRV', 'SAMURAIBLUE', 'サッカー日本代表', 'FIFAWorldCup', 'Qatar2022', 'https', '//t.co/jmaJkK9n…', 'Maria', 'Marta', 'Smart', 'Ciudad', 'Autónoma', 'de', 'Bs', 'As,2022-12-05', '20:34:10+00:00,0', 'Twitter', 'Android', 'RT', 'EFEdeportes', '🔝', 'El', 'orgullo', 'de', 'Japón', 'miran', 'con', 'esperanza', 'al', 'futuro', 'tras', 'un', 'Mundial', 'histórico', 'El', 'análisis', 'de', 'su', 'entrenador', '⤵️', 'JPN', 'H…', 'Chuncho', 'Chile,2022-12-05', '20:34:08+00:00,0', 'Twitter', 'iPhone', '19ustavo', 'KOR', 'cero', 'fe', 'Con', 'JPN', 'si', 'bien', 'le', 'daba', 'ligera', 'ventaja', 'HRV', 'parecía', 'sorpresa', 'que', 'avanzaran', 'cuartos', 'de', 'final', 'Estuvieron', 'ahí', 'los', 'ponjas']\n"
     ]
    }
   ],
   "source": [
    "print(filtered_tokens)"
   ]
  }
 ],
 "metadata": {
  "interpreter": {
   "hash": "31f2aee4e71d21fbe5cf8b01ff0e069b9275f58929596ceb00d14d90e3e16cd6"
  },
  "kernelspec": {
   "display_name": "Python 3.10.6 64-bit",
   "language": "python",
   "name": "python3"
  },
  "language_info": {
   "codemirror_mode": {
    "name": "ipython",
    "version": 3
   },
   "file_extension": ".py",
   "mimetype": "text/x-python",
   "name": "python",
   "nbconvert_exporter": "python",
   "pygments_lexer": "ipython3",
   "version": "3.10.6"
  },
  "orig_nbformat": 4,
  "vscode": {
   "interpreter": {
    "hash": "5c41cc7a6bf458ae2af5583a7906ef5f402c759b4882f3cbfc8ede19b81b2d2f"
   }
  }
 },
 "nbformat": 4,
 "nbformat_minor": 2
}
