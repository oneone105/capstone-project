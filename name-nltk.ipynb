{
 "cells": [
  {
   "cell_type": "code",
   "execution_count": null,
   "metadata": {},
   "outputs": [],
   "source": [
    "from pymongo import MongoClient\n",
    "import os\n",
    "from google.cloud import bigquery"
   ]
  },
  {
   "cell_type": "code",
   "execution_count": null,
   "metadata": {},
   "outputs": [],
   "source": [
    "os.environ[\"GOOGLE_APPLICATION_CREDENTIALS\"]= \"./tecky-capstone-project-15a2a04d016f.json\"\n",
    "bq_client = bigquery.Client()"
   ]
  },
  {
   "cell_type": "code",
   "execution_count": null,
   "metadata": {},
   "outputs": [],
   "source": [
    "client = MongoClient('localhost', 27017)\n",
    "db = client.worldcup"
   ]
  },
  {
   "cell_type": "code",
   "execution_count": null,
   "metadata": {},
   "outputs": [],
   "source": [
    "tweets_db = db.arghrvall.find()"
   ]
  },
  {
   "cell_type": "code",
   "execution_count": null,
   "metadata": {},
   "outputs": [],
   "source": [
    "acname = bq_client.get_table('tecky-capstone-project.worldcup.acne')"
   ]
  },
  {
   "cell_type": "code",
   "execution_count": null,
   "metadata": {},
   "outputs": [],
   "source": [
    "for tweet in tweets_db:\n",
    "    try:\n",
    "        if tweet.get('entities').get('annotations'):\n",
    "            for anno in tweet['entities']['annotations']:\n",
    "                if anno['type'] == \"Person\":\n",
    "                    person = anno['normalized_text']\n",
    "                    person = person.lower()\n",
    "                    person = person.capitalize()\n",
    "                    names = person.split(\" \")\n",
    "                    for name in names:\n",
    "                        content = {\n",
    "                            \"tweet_id\": tweet['tweet_id'],\n",
    "                            \"name\": name\n",
    "                        }\n",
    "                        bq_client.insert_rows_json(acname,[content])\n",
    "                    \n",
    "\n",
    "    except ValueError as e:\n",
    "        print(e)"
   ]
  }
 ],
 "metadata": {
  "kernelspec": {
   "display_name": "env",
   "language": "python",
   "name": "python3"
  },
  "language_info": {
   "name": "python",
   "version": "3.10.8 (main, Nov  1 2022, 14:18:21) [GCC 12.2.0]"
  },
  "orig_nbformat": 4,
  "vscode": {
   "interpreter": {
    "hash": "84fe7f48a66a84d07c48de43244c88fcbb547d59d43a0dc96953c4f1f3a41053"
   }
  }
 },
 "nbformat": 4,
 "nbformat_minor": 2
}
