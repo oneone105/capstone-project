{
 "cells": [
  {
   "cell_type": "code",
   "execution_count": 1,
   "metadata": {},
   "outputs": [],
   "source": [
    "import tweepy\n",
    "from dotenv import load_dotenv\n",
    "import os\n",
    "import pandas as pd\n",
    "from pymongo import MongoClient\n",
    "\n",
    "client = MongoClient('localhost', 27017)\n",
    "\n",
    "db = client.worldcup\n",
    "\n",
    "load_dotenv()\n",
    "\n",
    "consumer_key = os.getenv('API_KEY') #Your API/Consumer key \n",
    "consumer_secret = os.getenv('API_KEY_SECRET') #Your API/Consumer Secret Key\n",
    "access_token = os.getenv('ACCESS_TOKEN')    #Your Access token key\n",
    "access_token_secret = os.getenv('ACCESS_TOKEN_SECRET') #Your Access token Secret key"
   ]
  },
  {
   "cell_type": "code",
   "execution_count": 2,
   "metadata": {},
   "outputs": [],
   "source": [
    "auth = tweepy.AppAuthHandler(consumer_key, consumer_secret)\n",
    "api = tweepy.API(auth, wait_on_rate_limit=True, wait_on_rate_limit_notify=True) "
   ]
  },
  {
   "cell_type": "code",
   "execution_count": null,
   "metadata": {},
   "outputs": [],
   "source": [
    "# search_query = \"#JPN\", \"#HRV\"\n",
    "# no_of_tweets = 1500\n",
    "\n",
    "\n",
    "# try:\n",
    "#     #The number of tweets we want to retrieved from the search\n",
    "#     tweets = api.search_tweets(q=search_query, tweet_mode='extended', count=no_of_tweets)\n",
    "    \n",
    "#     #Pulling Some attributes from the tweet\n",
    "#     attributes_container = [[tweet.user.name, tweet.user.location, tweet.created_at, tweet.favorite_count, tweet.source,  tweet.full_text] for tweet in tweets]\n",
    "#     # attributes_container = [[tweet.user.name, tweet.place, tweet.created_at] for tweet in tweets]\n",
    "\n",
    "#     #Creation of column list to rename the columns in the dataframe\n",
    "#     columns = [\"User\", \"Location\", \"Date Created\", \"Number of Likes\", \"Source of Tweet\", \"Tweet\"]\n",
    "#     # columns = [\"User\", \"Location\", \"Date Created\"]\n",
    "    \n",
    "#     #Creation of Dataframe\n",
    "#     tweets_df = pd.DataFrame(attributes_container, columns=columns)\n",
    "#     tweets_df\n",
    "#     tweets_df.to_csv('{}-tweets.csv'.format(search_query), sep=',', index = False)\n",
    "# except BaseException as e:\n",
    "#     print('Status Failed On,',str(e))"
   ]
  },
  {
   "cell_type": "code",
   "execution_count": null,
   "metadata": {},
   "outputs": [],
   "source": [
    "search_query = \"#JPN\", \"#HRV\"\n",
    "no_of_tweets = 1500\n",
    "\n",
    "\n",
    "tweets = api.search_tweets(q=search_query, tweet_mode='extended', count=no_of_tweets)\n",
    "\n",
    "i = 0\n",
    "for tweet in tweets:\n",
    "    try:\n",
    "        content = {\n",
    "            \"User\": tweet.user.name,\n",
    "            \"Location\": tweet.user.location,\n",
    "            \"Date Created\": tweet.created_at,\n",
    "            \"Number of Likes\": tweet.favorite_count,\n",
    "            \"Source of Tweet\": tweet.source,\n",
    "            \"Tweet\": tweet.full_text\n",
    "        }\n",
    "        i += 1\n",
    "        if i > 90:\n",
    "            print(i)\n",
    "        db.sqfJpnHrv.insert_one(content)\n",
    "    except ValueError as e:\n",
    "        print(e)"
   ]
  },
  {
   "cell_type": "code",
   "execution_count": null,
   "metadata": {},
   "outputs": [],
   "source": [
    "query = \"#JPN\", \"#HRV\"\n",
    "tweets = tweepy.Paginator(client.search_recent_tweets, query=query, max_results=no_of_tweets)"
   ]
  }
 ],
 "metadata": {
  "interpreter": {
   "hash": "e7370f93d1d0cde622a1f8e1c04877d8463912d04d973331ad4851f04de6915a"
  },
  "kernelspec": {
   "display_name": "Python 3.10.6 64-bit",
   "language": "python",
   "name": "python3"
  },
  "language_info": {
   "codemirror_mode": {
    "name": "ipython",
    "version": 3
   },
   "file_extension": ".py",
   "mimetype": "text/x-python",
   "name": "python",
   "nbconvert_exporter": "python",
   "pygments_lexer": "ipython3",
   "version": "3.10.6"
  },
  "orig_nbformat": 4
 },
 "nbformat": 4,
 "nbformat_minor": 2
}
