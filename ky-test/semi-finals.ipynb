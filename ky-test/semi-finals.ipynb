{
 "cells": [
  {
   "cell_type": "code",
   "execution_count": null,
   "metadata": {},
   "outputs": [],
   "source": [
    "import tweepy\n",
    "import json\n",
    "import pandas as pd\n",
    "import numpy as np\n",
    "import re\n",
    "import string\n",
    "import nltk\n",
    "from nltk.corpus import stopwords\n",
    "from nltk.tokenize import word_tokenize\n",
    "from timeit import default_timer as timer\n",
    "import seaborn as sns\n",
    "import matplotlib.pyplot as plt\n",
    "%matplotlib inline\n",
    "sns.set_style(\"darkgrid\")"
   ]
  },
  {
   "cell_type": "code",
   "execution_count": null,
   "metadata": {},
   "outputs": [],
   "source": [
    "# Variables that contains the credentials to access Twitter API\n",
    "# credentials\n",
    "ACCESS_TOKEN = 'ACCESS_TOKEN'\n",
    "ACCESS_SECRET = 'ACCESS_SECRET'\n",
    "CONSUMER_KEY = 'API_KEY'\n",
    "CONSUMER_SECRET = 'API_KEY_SECRET'\n",
    "\n",
    "# Setup access to API\n",
    "def connect_to_twitter_OAuth():\n",
    "auth = tweepy.OAuthHandler(CONSUMER_KEY, CONSUMER_SECRET)\n",
    "auth.set_access_token(ACCESS_TOKEN, ACCESS_SECRET)\n",
    "api = tweepy.API(auth, wait_on_rate_limit = True)\n",
    "return api\n",
    "\n",
    "# Create API object\n",
    "api = connect_to_twitter_OAuth()"
   ]
  },
  {
   "cell_type": "code",
   "execution_count": null,
   "metadata": {},
   "outputs": [],
   "source": [
    "hashtag = \"#semi-finals\"\n",
    "limit =300\n",
    "tweets = tweepy.Cursor(api.search_tweets, q=hashtag,\n",
    "count=100, tweet_mode='extended').items(limit)"
   ]
  },
  {
   "cell_type": "code",
   "execution_count": null,
   "metadata": {},
   "outputs": [],
   "source": [
    "#Pulling Some attributes from the tweet\n",
    "attributes_container = [[tweet.created_at, tweet.favorite_count,tweet.source, ␣\n",
    ",→tweet.full_text] for tweet in tweets]\n",
    "#Creation of column list to rename the columns in the dataframe\n",
    "columns = [\"Date Created\", \"Number of Likes\", \"Source of Tweet\", \"Tweet\"]\n",
    "#Creation of Dataframe\n",
    "tweets_df = pd.DataFrame(attributes_container, columns=columns)"
   ]
  },
  {
   "cell_type": "code",
   "execution_count": null,
   "metadata": {},
   "outputs": [],
   "source": [
    "tweets_df"
   ]
  },
  {
   "cell_type": "code",
   "execution_count": null,
   "metadata": {},
   "outputs": [],
   "source": [
    "Date Created Number of Likes Source of Tweet \\\n",
    "0 2022-12-14 08:54:15+00:00 0 Twitter for iPhone\n",
    "1 2022-12-14 08:54:12+00:00 0 Twitter for Android\n",
    "2 2022-12-14 08:53:54+00:00 0 Twitter for Android\n",
    "3 2022-12-14 08:53:48+00:00 0 Twitter Web App\n",
    "4 2022-12-14 08:53:40+00:00 0 Twitter for iPhone\n",
    ".. … … …\n",
    "294 2022-12-14 08:23:06+00:00 0 Twitter for iPhone\n",
    "295 2022-12-14 08:23:05+00:00 10 Twitter for Android\n",
    "296 2022-12-14 08:23:01+00:00 0 Twitter for Android\n",
    "297 2022-12-14 08:22:50+00:00 2 Twitter for Android\n",
    "298 2022-12-14 08:22:48+00:00 0 Twitter for iPhone\n",
    "Tweet\n",
    "0 RT @Bisswissey1: "
   ]
  }
 ],
 "metadata": {
  "kernelspec": {
   "display_name": "Python 3",
   "language": "python",
   "name": "python3"
  },
  "language_info": {
   "name": "python",
   "version": "3.10.9 (tags/v3.10.9:1dd9be6, Dec  6 2022, 20:01:21) [MSC v.1934 64 bit (AMD64)]"
  },
  "orig_nbformat": 4,
  "vscode": {
   "interpreter": {
    "hash": "5c41cc7a6bf458ae2af5583a7906ef5f402c759b4882f3cbfc8ede19b81b2d2f"
   }
  }
 },
 "nbformat": 4,
 "nbformat_minor": 2
}
