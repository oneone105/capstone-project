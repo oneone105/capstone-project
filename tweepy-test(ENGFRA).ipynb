{
 "cells": [
  {
   "cell_type": "code",
   "execution_count": 18,
   "metadata": {},
   "outputs": [],
   "source": [
    "import tweepy\n",
    "from dotenv import load_dotenv\n",
    "import os\n",
    "import pandas as pd\n",
    "from pymongo import MongoClient\n",
    "# from google.cloud import bigquery\n",
    "import json\n",
    "\n",
    "client = MongoClient('localhost', 27017)\n",
    "\n",
    "\n",
    "# os.environ[\"GOOGLE_APPLICATION_CREDENTIALS\"]= os.getenv('GOOGLE_APPLICATION_CREDENTIALS')\n",
    "# bq_client = bigquery.Client()\n",
    "\n",
    "db = client.worldcup\n",
    "\n",
    "load_dotenv()\n",
    "\n",
    "tweepy_client = tweepy.Client(os.getenv('BEARER_TOKEN'), wait_on_rate_limit=True)\n",
    "\n"
   ]
  },
  {
   "cell_type": "code",
   "execution_count": 25,
   "metadata": {},
   "outputs": [
    {
     "ename": "TypeError",
     "evalue": "'Database' object is not callable",
     "output_type": "error",
     "traceback": [
      "\u001b[0;31m---------------------------------------------------------------------------\u001b[0m",
      "\u001b[0;31mTypeError\u001b[0m                                 Traceback (most recent call last)",
      "Cell \u001b[0;32mIn[25], line 3\u001b[0m\n\u001b[1;32m      1\u001b[0m query \u001b[39m=\u001b[39m \u001b[39m'\u001b[39m\u001b[39m#ARG #HRV #ARGHRV #HRVARG #Qatar2022 -is:retweet\u001b[39m\u001b[39m'\u001b[39m\n\u001b[0;32m----> 3\u001b[0m counts \u001b[39m=\u001b[39m client\u001b[39m.\u001b[39;49mget_recent_tweets_count(query\u001b[39m=\u001b[39;49mquery, granularity\u001b[39m=\u001b[39;49m\u001b[39m'\u001b[39;49m\u001b[39mday\u001b[39;49m\u001b[39m'\u001b[39;49m)\n\u001b[1;32m      5\u001b[0m \u001b[39mfor\u001b[39;00m count \u001b[39min\u001b[39;00m counts\u001b[39m.\u001b[39mdata:\n\u001b[1;32m      6\u001b[0m     \u001b[39mprint\u001b[39m(count)\n",
      "\u001b[0;31mTypeError\u001b[0m: 'Database' object is not callable"
     ]
    }
   ],
   "source": [
    "\n",
    "query = '#ENG #FRA -is:retweet'\n",
    "\n",
    "counts = client.get_recent_tweets_count(query=query, granularity='day')\n",
    "\n",
    "for count in counts.data:\n",
    "    print(count)"
   ]
  },
  {
   "cell_type": "code",
   "execution_count": 24,
   "metadata": {},
   "outputs": [],
   "source": [
    "query = '#ARG #HRV #ARGHRV #HRVARG #Qatar2022 -is:retweet'\n",
    "\n",
    "paginator = tweepy.Paginator(tweepy_client.search_recent_tweets, \n",
    "                        query=query,\n",
    "                        tweet_fields = ['author_id', 'created_at', 'source', 'lang', 'geo', 'public_metrics', 'entities'], \n",
    "                        expansions = ['geo.place_id', 'author_id'], \n",
    "                        start_time = '2022-12-12T00:00:00.000Z',\n",
    "                        end_time = '2022-12-13T23:00:00.000Z'\n",
    "                        )\n",
    "                        # user_fields = ['name','username','location','verified'], \n",
    "                        # place_fields = ['country','country_code'],\n",
    "\n",
    "for page in paginator:\n",
    "    \n",
    "    users = {u[\"id\"]: u for u in page.includes['users']}\n",
    "\n",
    "    for tweet in page.data:\n",
    "\n",
    "        if users[tweet.author_id]:\n",
    "            name = users[tweet.author_id].name\n",
    "            username = users[tweet.author_id].username\n",
    "\n",
    "        person=[]\n",
    "        for annotation in tweet.entities['annotations']:\n",
    "            if annotation['type'] == 'Person':\n",
    "                person.append(annotation['normalized_text'])\n",
    "\n",
    "        tweet_content = {\n",
    "            \"tweet_id\": tweet.id,\n",
    "            \"author_id\": tweet.author_id,\n",
    "            \"author_name\": name,\n",
    "            \"username\": username,\n",
    "            \"created_at\": tweet.created_at,\n",
    "            \"source\": tweet.source,\n",
    "            \"lang\": tweet.lang,\n",
    "            \"geo\": tweet.geo,\n",
    "            \"retweet\": tweet.public_metrics['retweet_count'],\n",
    "            \"reply\": tweet.public_metrics['reply_count'],\n",
    "            \"like\": tweet.public_metrics['like_count'],\n",
    "            \"quote\": tweet.public_metrics['quote_count'],\n",
    "            \"hashtags\": tweet.entities['hashtags'],\n",
    "            # \"urls\": tweet.entities['urls'],\n",
    "            \"mention_person\": \",\".join(person),\n",
    "            \"text\": tweet.text\n",
    "        }\n",
    "        \n",
    "        db.ARGHRV.insert_one(tweet_content)\n",
    "\n",
    "        break\n",
    "    # print(tweet[0].entities['hashtags'])\n",
    "    break\n",
    "# for tweet in tweets.flatten():\n",
    "#     try:\n",
    "#         print(\"1. \",tweet.data['entities'])\n",
    "#         print(\"2. \",tweet.includes['name'])\n",
    "#         for key, value in tweet.data.items():\n",
    "#             print (key, value)\n",
    "#         # db.a.insert_one(tweet)\n",
    "#         break\n",
    "#     except ValueError as e:\n",
    "#         print(e)\n",
    "        "
   ]
  },
  {
   "cell_type": "code",
   "execution_count": null,
   "metadata": {},
   "outputs": [],
   "source": [
    "search_query = \"#JPN #HRV\"\n",
    "no_of_tweets = 1\n",
    "\n",
    "tweets = tweepy_client.search_recent_tweets(query=search_query)\n",
    "\n",
    "\n",
    "# i=0\n",
    "for tweet in tweets:\n",
    "    try:\n",
    "        # content = {\n",
    "        #     \"Id\": tweet.id,\n",
    "        #     \"Location\": tweet.user.location,\n",
    "        #     \"Date_Created\": tweet.created_at,\n",
    "        #     \"Tweet\": tweet.text,\n",
    "        #     \"Reply_to\": tweet.in_reply_to_user_id,\n",
    "        #     \"Lang\": tweet.lang,\n",
    "        #     \"No_of_Likes\": tweet.public_metrics.like_count,\n",
    "        #     \"No_of_Replies\": tweet.public_metrics.reply_count,\n",
    "        #     \"No_of_retweets\": tweet.public_metrics.retweet_count,\n",
    "        #     \"Source_of_Tweet\": tweet.source\n",
    "        # }\n",
    "        print(tweet)\n",
    "        print(type(tweet))\n",
    "        break\n",
    "        # db.t.insert_one(tweet)\n",
    "        print(i)\n",
    "    except ValueError as e:\n",
    "        print(e)"
   ]
  },
  {
   "cell_type": "code",
   "execution_count": 17,
   "metadata": {},
   "outputs": [
    {
     "ename": "NameError",
     "evalue": "name 'bq_client' is not defined",
     "output_type": "error",
     "traceback": [
      "\u001b[0;31m---------------------------------------------------------------------------\u001b[0m",
      "\u001b[0;31mNameError\u001b[0m                                 Traceback (most recent call last)",
      "Cell \u001b[0;32mIn[17], line 1\u001b[0m\n\u001b[0;32m----> 1\u001b[0m eng_vs_fra \u001b[39m=\u001b[39m bq_client\u001b[39m.\u001b[39mget_table(\u001b[39m'\u001b[39m\u001b[39mtecky-capstone-project.worldcup.eng_fra\u001b[39m\u001b[39m'\u001b[39m)\n\u001b[1;32m      3\u001b[0m x \u001b[39m=\u001b[39m db\u001b[39m.\u001b[39mef\u001b[39m.\u001b[39mfind()\n\u001b[1;32m      4\u001b[0m \u001b[39mfor\u001b[39;00m row \u001b[39min\u001b[39;00m x:\n",
      "\u001b[0;31mNameError\u001b[0m: name 'bq_client' is not defined"
     ]
    }
   ],
   "source": [
    "eng_vs_fra = bq_client.get_table('tecky-capstone-project.worldcup.eng_fra')\n",
    "\n",
    "x = db.ef.find()\n",
    "for row in x:\n",
    "    row['_id'] = str(row['_id'])\n",
    "    row['Date_Created'] = str(row['Date_Created'])\n",
    "    bq_client.insert_rows_json(_vs_hrv,[row])"
   ]
  },
  {
   "attachments": {},
   "cell_type": "markdown",
   "metadata": {},
   "source": []
  }
 ],
 "metadata": {
  "interpreter": {
   "hash": "e7370f93d1d0cde622a1f8e1c04877d8463912d04d973331ad4851f04de6915a"
  },
  "kernelspec": {
   "display_name": "Python 3.10.6 64-bit",
   "language": "python",
   "name": "python3"
  },
  "language_info": {
   "codemirror_mode": {
    "name": "ipython",
    "version": 3
   },
   "file_extension": ".py",
   "mimetype": "text/x-python",
   "name": "python",
   "nbconvert_exporter": "python",
   "pygments_lexer": "ipython3",
   "version": "3.10.6 (main, Nov 14 2022, 16:10:14) [GCC 11.3.0]"
  },
  "orig_nbformat": 4
 },
 "nbformat": 4,
 "nbformat_minor": 2
}
