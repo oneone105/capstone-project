{
 "cells": [
  {
   "cell_type": "code",
   "execution_count": 1,
   "metadata": {},
   "outputs": [],
   "source": [
    "import unicodedata"
   ]
  },
  {
   "cell_type": "code",
   "execution_count": 2,
   "metadata": {},
   "outputs": [],
   "source": [
    "text = 'Modrić'"
   ]
  },
  {
   "cell_type": "code",
   "execution_count": 12,
   "metadata": {},
   "outputs": [
    {
     "name": "stdout",
     "output_type": "stream",
     "text": [
      "Modric\n"
     ]
    }
   ],
   "source": [
    "# print(unicodedata.normalize('NFC',text).encode('ascii','ignore'))\n",
    "# print(unicodedata.normalize('NFKC',text).encode('ascii','ignore'))\n",
    "# print(unicodedata.normalize('NFD',text).encode('ascii','ignore'))\n",
    "# print(unicodedata.normalize('NFKD',text).encode('ascii','ignore'))\n",
    "\n",
    "texa = unicodedata.normalize('NFKD',text).encode('ascii','ignore').decode()\n",
    "\n",
    "print(texa)"
   ]
  },
  {
   "cell_type": "code",
   "execution_count": 14,
   "metadata": {},
   "outputs": [
    {
     "name": "stdout",
     "output_type": "stream",
     "text": [
      "Pele Julian Alvarez\n"
     ]
    }
   ],
   "source": [
    "print(unicodedata.normalize('NFKD',\"Pelé Julián Álvarez\").encode('ascii','ignore').decode())"
   ]
  }
 ],
 "metadata": {
  "kernelspec": {
   "display_name": "env",
   "language": "python",
   "name": "python3"
  },
  "language_info": {
   "codemirror_mode": {
    "name": "ipython",
    "version": 3
   },
   "file_extension": ".py",
   "mimetype": "text/x-python",
   "name": "python",
   "nbconvert_exporter": "python",
   "pygments_lexer": "ipython3",
   "version": "3.10.8 (main, Nov  1 2022, 14:18:21) [GCC 12.2.0]"
  },
  "orig_nbformat": 4,
  "vscode": {
   "interpreter": {
    "hash": "84fe7f48a66a84d07c48de43244c88fcbb547d59d43a0dc96953c4f1f3a41053"
   }
  }
 },
 "nbformat": 4,
 "nbformat_minor": 2
}
