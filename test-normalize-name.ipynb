{
 "cells": [
  {
   "cell_type": "code",
   "execution_count": 1,
   "metadata": {},
   "outputs": [],
   "source": [
    "import unicodedata"
   ]
  },
  {
   "cell_type": "code",
   "execution_count": 2,
   "metadata": {},
   "outputs": [],
   "source": [
    "text = 'Modrić'"
   ]
  },
  {
   "cell_type": "code",
   "execution_count": 12,
   "metadata": {},
   "outputs": [
    {
     "name": "stdout",
     "output_type": "stream",
     "text": [
      "Modric\n"
     ]
    }
   ],
   "source": [
    "# print(unicodedata.normalize('NFC',text).encode('ascii','ignore'))\n",
    "# print(unicodedata.normalize('NFKC',text).encode('ascii','ignore'))\n",
    "# print(unicodedata.normalize('NFD',text).encode('ascii','ignore'))\n",
    "# print(unicodedata.normalize('NFKD',text).encode('ascii','ignore'))\n",
    "\n",
    "texa = unicodedata.normalize('NFKD',text).encode('ascii','ignore').decode()\n",
    "\n",
    "print(texa)"
   ]
  },
  {
   "cell_type": "code",
   "execution_count": 14,
   "metadata": {},
   "outputs": [
    {
     "name": "stdout",
     "output_type": "stream",
     "text": [
      "Pele Julian Alvarez\n"
     ]
    }
   ],
   "source": [
    "print(unicodedata.normalize('NFKD',\"Pelé Julián Álvarez\").encode('ascii','ignore').decode())"
   ]
  }
 ],
 "metadata": {
  "interpreter": {
   "hash": "31f2aee4e71d21fbe5cf8b01ff0e069b9275f58929596ceb00d14d90e3e16cd6"
  },
  "kernelspec": {
   "display_name": "Python 3.10.6 64-bit",
   "language": "python",
   "name": "python3"
  },
  "language_info": {
   "codemirror_mode": {
    "name": "ipython",
    "version": 3
   },
   "file_extension": ".py",
   "mimetype": "text/x-python",
   "name": "python",
   "nbconvert_exporter": "python",
   "pygments_lexer": "ipython3",
   "version": "3.10.6"
  },
  "orig_nbformat": 4
 },
 "nbformat": 4,
 "nbformat_minor": 2
}
